{
  "nbformat": 4,
  "nbformat_minor": 0,
  "metadata": {
    "colab": {
      "provenance": []
    },
    "kernelspec": {
      "name": "python3",
      "display_name": "Python 3"
    },
    "language_info": {
      "name": "python"
    }
  },
  "cells": [
    {
      "cell_type": "markdown",
      "source": [
        "#Setting up PySpark"
      ],
      "metadata": {
        "id": "Q1ydsNuBz2Cn"
      }
    },
    {
      "cell_type": "code",
      "execution_count": null,
      "metadata": {
        "id": "ww0w_dTfzpjg"
      },
      "outputs": [],
      "source": [
        "!apt-get install openjdk-8-jdk-headless"
      ]
    },
    {
      "cell_type": "code",
      "source": [
        "!wget https://archive.apache.org/dist/spark/spark-3.2.1/spark-3.2.1-bin-hadoop2.7.tgz"
      ],
      "metadata": {
        "id": "qbuM8-0Hz-jR",
        "colab": {
          "base_uri": "https://localhost:8080/"
        },
        "outputId": "70b74cd5-8155-4632-8ce4-1469c7f55be7"
      },
      "execution_count": null,
      "outputs": [
        {
          "output_type": "stream",
          "name": "stdout",
          "text": [
            "--2023-05-17 18:45:47--  https://archive.apache.org/dist/spark/spark-3.2.1/spark-3.2.1-bin-hadoop2.7.tgz\n",
            "Resolving archive.apache.org (archive.apache.org)... 138.201.131.134, 2a01:4f8:172:2ec5::2\n",
            "Connecting to archive.apache.org (archive.apache.org)|138.201.131.134|:443... connected.\n",
            "HTTP request sent, awaiting response... 200 OK\n",
            "Length: 272637746 (260M) [application/x-gzip]\n",
            "Saving to: ‘spark-3.2.1-bin-hadoop2.7.tgz.2’\n",
            "\n",
            "spark-3.2.1-bin-had 100%[===================>] 260.01M  99.8KB/s    in 44m 27s \n",
            "\n",
            "2023-05-17 19:30:14 (99.8 KB/s) - ‘spark-3.2.1-bin-hadoop2.7.tgz.2’ saved [272637746/272637746]\n",
            "\n"
          ]
        }
      ]
    },
    {
      "cell_type": "code",
      "source": [
        "!tar xf /content/spark-3.2.1-bin-hadoop2.7.tgz.2"
      ],
      "metadata": {
        "id": "4S5tlWIt0MOO"
      },
      "execution_count": null,
      "outputs": []
    },
    {
      "cell_type": "code",
      "source": [
        "!pip install -q findspark"
      ],
      "metadata": {
        "id": "X-1XnOSC0Tc5"
      },
      "execution_count": null,
      "outputs": []
    },
    {
      "cell_type": "code",
      "source": [
        "import os\n",
        "os.environ[\"JAVA_HOME\"] = \"/usr/lib/jvm/java-8-openjdk-amd64\"\n",
        "os.environ[\"SPARK_HOME\"] = \"/content/spark-3.2.1-bin-hadoop2.7\""
      ],
      "metadata": {
        "id": "QxB0ZpFg0Wxe"
      },
      "execution_count": null,
      "outputs": []
    },
    {
      "cell_type": "code",
      "source": [
        "import findspark\n",
        "findspark.init()\n",
        "findspark.find()"
      ],
      "metadata": {
        "id": "63G2SLkv0aKL"
      },
      "execution_count": null,
      "outputs": []
    },
    {
      "cell_type": "code",
      "source": [
        "from pyspark.sql import SparkSession\n",
        "\n",
        "spark = SparkSession.builder\\\n",
        "        .master(\"local\")\\\n",
        "        .appName(\"DataCleaningApp\")\\\n",
        "        .config('spark.ui.port', '4050')\\\n",
        "        .getOrCreate()"
      ],
      "metadata": {
        "id": "dAKJv5KQ0dHn"
      },
      "execution_count": null,
      "outputs": []
    },
    {
      "cell_type": "code",
      "source": [
        "spark"
      ],
      "metadata": {
        "id": "TG2ERleP0gxN",
        "colab": {
          "base_uri": "https://localhost:8080/",
          "height": 216
        },
        "outputId": "e738bfc0-bbaf-466a-d032-a3f952e949c3"
      },
      "execution_count": null,
      "outputs": [
        {
          "output_type": "execute_result",
          "data": {
            "text/plain": [
              "<pyspark.sql.session.SparkSession at 0x7f8081f74700>"
            ],
            "text/html": [
              "\n",
              "            <div>\n",
              "                <p><b>SparkSession - in-memory</b></p>\n",
              "                \n",
              "        <div>\n",
              "            <p><b>SparkContext</b></p>\n",
              "\n",
              "            <p><a href=\"http://bb3580ff1e6c:4050\">Spark UI</a></p>\n",
              "\n",
              "            <dl>\n",
              "              <dt>Version</dt>\n",
              "                <dd><code>v3.2.1</code></dd>\n",
              "              <dt>Master</dt>\n",
              "                <dd><code>local</code></dd>\n",
              "              <dt>AppName</dt>\n",
              "                <dd><code>DataCleaningApp</code></dd>\n",
              "            </dl>\n",
              "        </div>\n",
              "        \n",
              "            </div>\n",
              "        "
            ]
          },
          "metadata": {},
          "execution_count": 13
        }
      ]
    },
    {
      "cell_type": "markdown",
      "source": [
        "## Load Data to PySpark"
      ],
      "metadata": {
        "id": "7BYgJG4h0pHx"
      }
    },
    {
      "cell_type": "code",
      "source": [
        "#First downlad the file from moodle and then upload it to the colab\n",
        "df = spark.read.csv(\"/content/ad-clicks.csv\", header=True, inferSchema=True)"
      ],
      "metadata": {
        "id": "5_MYyS3uU64l",
        "colab": {
          "base_uri": "https://localhost:8080/",
          "height": 336
        },
        "outputId": "f1544ea6-b611-42d5-f538-a613477ca013"
      },
      "execution_count": null,
      "outputs": [
        {
          "output_type": "error",
          "ename": "AnalysisException",
          "evalue": "ignored",
          "traceback": [
            "\u001b[0;31m---------------------------------------------------------------------------\u001b[0m",
            "\u001b[0;31mAnalysisException\u001b[0m                         Traceback (most recent call last)",
            "\u001b[0;32m<ipython-input-10-cf24392fb760>\u001b[0m in \u001b[0;36m<cell line: 2>\u001b[0;34m()\u001b[0m\n\u001b[1;32m      1\u001b[0m \u001b[0;31m#First downlad the file from moodle and then upload it to the colab\u001b[0m\u001b[0;34m\u001b[0m\u001b[0;34m\u001b[0m\u001b[0m\n\u001b[0;32m----> 2\u001b[0;31m \u001b[0mdf\u001b[0m \u001b[0;34m=\u001b[0m \u001b[0mspark\u001b[0m\u001b[0;34m.\u001b[0m\u001b[0mread\u001b[0m\u001b[0;34m.\u001b[0m\u001b[0mcsv\u001b[0m\u001b[0;34m(\u001b[0m\u001b[0;34m\"/content/ad-clicks.csv\"\u001b[0m\u001b[0;34m,\u001b[0m \u001b[0mheader\u001b[0m\u001b[0;34m=\u001b[0m\u001b[0;32mTrue\u001b[0m\u001b[0;34m,\u001b[0m \u001b[0minferSchema\u001b[0m\u001b[0;34m=\u001b[0m\u001b[0;32mTrue\u001b[0m\u001b[0;34m)\u001b[0m\u001b[0;34m\u001b[0m\u001b[0;34m\u001b[0m\u001b[0m\n\u001b[0m",
            "\u001b[0;32m/content/spark-3.2.1-bin-hadoop2.7/python/pyspark/sql/readwriter.py\u001b[0m in \u001b[0;36mcsv\u001b[0;34m(self, path, schema, sep, encoding, quote, escape, comment, header, inferSchema, ignoreLeadingWhiteSpace, ignoreTrailingWhiteSpace, nullValue, nanValue, positiveInf, negativeInf, dateFormat, timestampFormat, maxColumns, maxCharsPerColumn, maxMalformedLogPerPartition, mode, columnNameOfCorruptRecord, multiLine, charToEscapeQuoteEscaping, samplingRatio, enforceSchema, emptyValue, locale, lineSep, pathGlobFilter, recursiveFileLookup, modifiedBefore, modifiedAfter, unescapedQuoteHandling)\u001b[0m\n\u001b[1;32m    408\u001b[0m             \u001b[0mpath\u001b[0m \u001b[0;34m=\u001b[0m \u001b[0;34m[\u001b[0m\u001b[0mpath\u001b[0m\u001b[0;34m]\u001b[0m\u001b[0;34m\u001b[0m\u001b[0;34m\u001b[0m\u001b[0m\n\u001b[1;32m    409\u001b[0m         \u001b[0;32mif\u001b[0m \u001b[0mtype\u001b[0m\u001b[0;34m(\u001b[0m\u001b[0mpath\u001b[0m\u001b[0;34m)\u001b[0m \u001b[0;34m==\u001b[0m \u001b[0mlist\u001b[0m\u001b[0;34m:\u001b[0m\u001b[0;34m\u001b[0m\u001b[0;34m\u001b[0m\u001b[0m\n\u001b[0;32m--> 410\u001b[0;31m             \u001b[0;32mreturn\u001b[0m \u001b[0mself\u001b[0m\u001b[0;34m.\u001b[0m\u001b[0m_df\u001b[0m\u001b[0;34m(\u001b[0m\u001b[0mself\u001b[0m\u001b[0;34m.\u001b[0m\u001b[0m_jreader\u001b[0m\u001b[0;34m.\u001b[0m\u001b[0mcsv\u001b[0m\u001b[0;34m(\u001b[0m\u001b[0mself\u001b[0m\u001b[0;34m.\u001b[0m\u001b[0m_spark\u001b[0m\u001b[0;34m.\u001b[0m\u001b[0m_sc\u001b[0m\u001b[0;34m.\u001b[0m\u001b[0m_jvm\u001b[0m\u001b[0;34m.\u001b[0m\u001b[0mPythonUtils\u001b[0m\u001b[0;34m.\u001b[0m\u001b[0mtoSeq\u001b[0m\u001b[0;34m(\u001b[0m\u001b[0mpath\u001b[0m\u001b[0;34m)\u001b[0m\u001b[0;34m)\u001b[0m\u001b[0;34m)\u001b[0m\u001b[0;34m\u001b[0m\u001b[0;34m\u001b[0m\u001b[0m\n\u001b[0m\u001b[1;32m    411\u001b[0m         \u001b[0;32melif\u001b[0m \u001b[0misinstance\u001b[0m\u001b[0;34m(\u001b[0m\u001b[0mpath\u001b[0m\u001b[0;34m,\u001b[0m \u001b[0mRDD\u001b[0m\u001b[0;34m)\u001b[0m\u001b[0;34m:\u001b[0m\u001b[0;34m\u001b[0m\u001b[0;34m\u001b[0m\u001b[0m\n\u001b[1;32m    412\u001b[0m             \u001b[0;32mdef\u001b[0m \u001b[0mfunc\u001b[0m\u001b[0;34m(\u001b[0m\u001b[0miterator\u001b[0m\u001b[0;34m)\u001b[0m\u001b[0;34m:\u001b[0m\u001b[0;34m\u001b[0m\u001b[0;34m\u001b[0m\u001b[0m\n",
            "\u001b[0;32m/content/spark-3.2.1-bin-hadoop2.7/python/lib/py4j-0.10.9.3-src.zip/py4j/java_gateway.py\u001b[0m in \u001b[0;36m__call__\u001b[0;34m(self, *args)\u001b[0m\n\u001b[1;32m   1319\u001b[0m \u001b[0;34m\u001b[0m\u001b[0m\n\u001b[1;32m   1320\u001b[0m         \u001b[0manswer\u001b[0m \u001b[0;34m=\u001b[0m \u001b[0mself\u001b[0m\u001b[0;34m.\u001b[0m\u001b[0mgateway_client\u001b[0m\u001b[0;34m.\u001b[0m\u001b[0msend_command\u001b[0m\u001b[0;34m(\u001b[0m\u001b[0mcommand\u001b[0m\u001b[0;34m)\u001b[0m\u001b[0;34m\u001b[0m\u001b[0;34m\u001b[0m\u001b[0m\n\u001b[0;32m-> 1321\u001b[0;31m         return_value = get_return_value(\n\u001b[0m\u001b[1;32m   1322\u001b[0m             answer, self.gateway_client, self.target_id, self.name)\n\u001b[1;32m   1323\u001b[0m \u001b[0;34m\u001b[0m\u001b[0m\n",
            "\u001b[0;32m/content/spark-3.2.1-bin-hadoop2.7/python/pyspark/sql/utils.py\u001b[0m in \u001b[0;36mdeco\u001b[0;34m(*a, **kw)\u001b[0m\n\u001b[1;32m    115\u001b[0m                 \u001b[0;31m# Hide where the exception came from that shows a non-Pythonic\u001b[0m\u001b[0;34m\u001b[0m\u001b[0;34m\u001b[0m\u001b[0m\n\u001b[1;32m    116\u001b[0m                 \u001b[0;31m# JVM exception message.\u001b[0m\u001b[0;34m\u001b[0m\u001b[0;34m\u001b[0m\u001b[0m\n\u001b[0;32m--> 117\u001b[0;31m                 \u001b[0;32mraise\u001b[0m \u001b[0mconverted\u001b[0m \u001b[0;32mfrom\u001b[0m \u001b[0;32mNone\u001b[0m\u001b[0;34m\u001b[0m\u001b[0;34m\u001b[0m\u001b[0m\n\u001b[0m\u001b[1;32m    118\u001b[0m             \u001b[0;32melse\u001b[0m\u001b[0;34m:\u001b[0m\u001b[0;34m\u001b[0m\u001b[0;34m\u001b[0m\u001b[0m\n\u001b[1;32m    119\u001b[0m                 \u001b[0;32mraise\u001b[0m\u001b[0;34m\u001b[0m\u001b[0;34m\u001b[0m\u001b[0m\n",
            "\u001b[0;31mAnalysisException\u001b[0m: Path does not exist: file:/content/ad-clicks.csv"
          ]
        }
      ]
    },
    {
      "cell_type": "code",
      "source": [
        "df.printSchema()"
      ],
      "metadata": {
        "id": "L-cyz_Yx1OAJ",
        "colab": {
          "base_uri": "https://localhost:8080/"
        },
        "outputId": "8092152b-a036-4de3-bcef-151df89582f2"
      },
      "execution_count": null,
      "outputs": [
        {
          "output_type": "stream",
          "name": "stdout",
          "text": [
            "root\n",
            " |-- user_id: integer (nullable = true)\n",
            " |-- teamchat_session_id: integer (nullable = true)\n",
            " |-- date: integer (nullable = true)\n",
            "\n"
          ]
        }
      ]
    },
    {
      "cell_type": "code",
      "source": [
        "df.show(5)"
      ],
      "metadata": {
        "id": "ALt5m9OM1P3E",
        "colab": {
          "base_uri": "https://localhost:8080/"
        },
        "outputId": "ef4ce823-dcd7-4828-d95a-21be6da4ec00"
      },
      "execution_count": null,
      "outputs": [
        {
          "output_type": "stream",
          "name": "stdout",
          "text": [
            "+-------+-------------------+----------+\n",
            "|user_id|teamchat_session_id|      date|\n",
            "+-------+-------------------+----------+\n",
            "|   1588|               6776|1464233999|\n",
            "|    350|               6777|1464234000|\n",
            "|    740|               6778|1464234001|\n",
            "|   1068|               6779|1464234002|\n",
            "|   1554|               6780|1464234003|\n",
            "+-------+-------------------+----------+\n",
            "only showing top 5 rows\n",
            "\n"
          ]
        }
      ]
    },
    {
      "cell_type": "code",
      "source": [
        "df.describe()"
      ],
      "metadata": {
        "id": "qiAuA0GS1TCc",
        "colab": {
          "base_uri": "https://localhost:8080/"
        },
        "outputId": "b5c68c30-79c7-4c4f-e1be-4b40b9d89e0e"
      },
      "execution_count": null,
      "outputs": [
        {
          "output_type": "execute_result",
          "data": {
            "text/plain": [
              "DataFrame[summary: string, user_id: string, teamchat_session_id: string, date: string]"
            ]
          },
          "metadata": {},
          "execution_count": 19
        }
      ]
    },
    {
      "cell_type": "code",
      "source": [
        "df.describe().toPandas().transpose()"
      ],
      "metadata": {
        "id": "S28DG_W11YAw",
        "colab": {
          "base_uri": "https://localhost:8080/",
          "height": 173
        },
        "outputId": "e8bd5a0e-e13b-47c7-abf0-e6aef45b87c8"
      },
      "execution_count": null,
      "outputs": [
        {
          "output_type": "execute_result",
          "data": {
            "text/plain": [
              "                         0                     1                  2  \\\n",
              "summary              count                  mean             stddev   \n",
              "user_id               4001     1044.889777555611  604.0258422435047   \n",
              "teamchat_session_id   4001     8873.222944263935  6091.211665406428   \n",
              "date                  4001  1.4652051334216447E9  545178.8420192328   \n",
              "\n",
              "                              3           4  \n",
              "summary                     min         max  \n",
              "user_id                       1        2100  \n",
              "teamchat_session_id        6776       62531  \n",
              "date                 1464233999  1466032311  "
            ],
            "text/html": [
              "\n",
              "  <div id=\"df-4410d875-2711-4347-9b4e-a0331152ddc7\">\n",
              "    <div class=\"colab-df-container\">\n",
              "      <div>\n",
              "<style scoped>\n",
              "    .dataframe tbody tr th:only-of-type {\n",
              "        vertical-align: middle;\n",
              "    }\n",
              "\n",
              "    .dataframe tbody tr th {\n",
              "        vertical-align: top;\n",
              "    }\n",
              "\n",
              "    .dataframe thead th {\n",
              "        text-align: right;\n",
              "    }\n",
              "</style>\n",
              "<table border=\"1\" class=\"dataframe\">\n",
              "  <thead>\n",
              "    <tr style=\"text-align: right;\">\n",
              "      <th></th>\n",
              "      <th>0</th>\n",
              "      <th>1</th>\n",
              "      <th>2</th>\n",
              "      <th>3</th>\n",
              "      <th>4</th>\n",
              "    </tr>\n",
              "  </thead>\n",
              "  <tbody>\n",
              "    <tr>\n",
              "      <th>summary</th>\n",
              "      <td>count</td>\n",
              "      <td>mean</td>\n",
              "      <td>stddev</td>\n",
              "      <td>min</td>\n",
              "      <td>max</td>\n",
              "    </tr>\n",
              "    <tr>\n",
              "      <th>user_id</th>\n",
              "      <td>4001</td>\n",
              "      <td>1044.889777555611</td>\n",
              "      <td>604.0258422435047</td>\n",
              "      <td>1</td>\n",
              "      <td>2100</td>\n",
              "    </tr>\n",
              "    <tr>\n",
              "      <th>teamchat_session_id</th>\n",
              "      <td>4001</td>\n",
              "      <td>8873.222944263935</td>\n",
              "      <td>6091.211665406428</td>\n",
              "      <td>6776</td>\n",
              "      <td>62531</td>\n",
              "    </tr>\n",
              "    <tr>\n",
              "      <th>date</th>\n",
              "      <td>4001</td>\n",
              "      <td>1.4652051334216447E9</td>\n",
              "      <td>545178.8420192328</td>\n",
              "      <td>1464233999</td>\n",
              "      <td>1466032311</td>\n",
              "    </tr>\n",
              "  </tbody>\n",
              "</table>\n",
              "</div>\n",
              "      <button class=\"colab-df-convert\" onclick=\"convertToInteractive('df-4410d875-2711-4347-9b4e-a0331152ddc7')\"\n",
              "              title=\"Convert this dataframe to an interactive table.\"\n",
              "              style=\"display:none;\">\n",
              "        \n",
              "  <svg xmlns=\"http://www.w3.org/2000/svg\" height=\"24px\"viewBox=\"0 0 24 24\"\n",
              "       width=\"24px\">\n",
              "    <path d=\"M0 0h24v24H0V0z\" fill=\"none\"/>\n",
              "    <path d=\"M18.56 5.44l.94 2.06.94-2.06 2.06-.94-2.06-.94-.94-2.06-.94 2.06-2.06.94zm-11 1L8.5 8.5l.94-2.06 2.06-.94-2.06-.94L8.5 2.5l-.94 2.06-2.06.94zm10 10l.94 2.06.94-2.06 2.06-.94-2.06-.94-.94-2.06-.94 2.06-2.06.94z\"/><path d=\"M17.41 7.96l-1.37-1.37c-.4-.4-.92-.59-1.43-.59-.52 0-1.04.2-1.43.59L10.3 9.45l-7.72 7.72c-.78.78-.78 2.05 0 2.83L4 21.41c.39.39.9.59 1.41.59.51 0 1.02-.2 1.41-.59l7.78-7.78 2.81-2.81c.8-.78.8-2.07 0-2.86zM5.41 20L4 18.59l7.72-7.72 1.47 1.35L5.41 20z\"/>\n",
              "  </svg>\n",
              "      </button>\n",
              "      \n",
              "  <style>\n",
              "    .colab-df-container {\n",
              "      display:flex;\n",
              "      flex-wrap:wrap;\n",
              "      gap: 12px;\n",
              "    }\n",
              "\n",
              "    .colab-df-convert {\n",
              "      background-color: #E8F0FE;\n",
              "      border: none;\n",
              "      border-radius: 50%;\n",
              "      cursor: pointer;\n",
              "      display: none;\n",
              "      fill: #1967D2;\n",
              "      height: 32px;\n",
              "      padding: 0 0 0 0;\n",
              "      width: 32px;\n",
              "    }\n",
              "\n",
              "    .colab-df-convert:hover {\n",
              "      background-color: #E2EBFA;\n",
              "      box-shadow: 0px 1px 2px rgba(60, 64, 67, 0.3), 0px 1px 3px 1px rgba(60, 64, 67, 0.15);\n",
              "      fill: #174EA6;\n",
              "    }\n",
              "\n",
              "    [theme=dark] .colab-df-convert {\n",
              "      background-color: #3B4455;\n",
              "      fill: #D2E3FC;\n",
              "    }\n",
              "\n",
              "    [theme=dark] .colab-df-convert:hover {\n",
              "      background-color: #434B5C;\n",
              "      box-shadow: 0px 1px 3px 1px rgba(0, 0, 0, 0.15);\n",
              "      filter: drop-shadow(0px 1px 2px rgba(0, 0, 0, 0.3));\n",
              "      fill: #FFFFFF;\n",
              "    }\n",
              "  </style>\n",
              "\n",
              "      <script>\n",
              "        const buttonEl =\n",
              "          document.querySelector('#df-4410d875-2711-4347-9b4e-a0331152ddc7 button.colab-df-convert');\n",
              "        buttonEl.style.display =\n",
              "          google.colab.kernel.accessAllowed ? 'block' : 'none';\n",
              "\n",
              "        async function convertToInteractive(key) {\n",
              "          const element = document.querySelector('#df-4410d875-2711-4347-9b4e-a0331152ddc7');\n",
              "          const dataTable =\n",
              "            await google.colab.kernel.invokeFunction('convertToInteractive',\n",
              "                                                     [key], {});\n",
              "          if (!dataTable) return;\n",
              "\n",
              "          const docLinkHtml = 'Like what you see? Visit the ' +\n",
              "            '<a target=\"_blank\" href=https://colab.research.google.com/notebooks/data_table.ipynb>data table notebook</a>'\n",
              "            + ' to learn more about interactive tables.';\n",
              "          element.innerHTML = '';\n",
              "          dataTable['output_type'] = 'display_data';\n",
              "          await google.colab.output.renderOutput(dataTable, element);\n",
              "          const docLink = document.createElement('div');\n",
              "          docLink.innerHTML = docLinkHtml;\n",
              "          element.appendChild(docLink);\n",
              "        }\n",
              "      </script>\n",
              "    </div>\n",
              "  </div>\n",
              "  "
            ]
          },
          "metadata": {},
          "execution_count": 20
        }
      ]
    },
    {
      "cell_type": "code",
      "source": [
        "df.count()"
      ],
      "metadata": {
        "colab": {
          "base_uri": "https://localhost:8080/"
        },
        "id": "hWySVxjI1fD7",
        "outputId": "940cd6d9-ba4d-4ea4-a1da-f03b2b90881b"
      },
      "execution_count": null,
      "outputs": [
        {
          "output_type": "execute_result",
          "data": {
            "text/plain": [
              "4001"
            ]
          },
          "metadata": {},
          "execution_count": 21
        }
      ]
    },
    {
      "cell_type": "markdown",
      "source": [
        "## Find Count of null, None, NaN Values"
      ],
      "metadata": {
        "id": "93dswqCj2FSk"
      }
    },
    {
      "cell_type": "code",
      "source": [
        "from pyspark.sql.functions import col,isnan, when, count\n",
        "df.select([count(when(isnan(c) | col(c).isNull(), c)).alias(c) for c in df.columns]\n",
        "   ).show()\n"
      ],
      "metadata": {
        "id": "ZYtZRJNP1khl"
      },
      "execution_count": null,
      "outputs": []
    },
    {
      "cell_type": "markdown",
      "source": [
        "## Find duplicates"
      ],
      "metadata": {
        "id": "7J01C3844cjU"
      }
    },
    {
      "cell_type": "code",
      "source": [
        "df_updated = df.distinct()"
      ],
      "metadata": {
        "id": "V86FLPh72Ivj"
      },
      "execution_count": null,
      "outputs": []
    },
    {
      "cell_type": "code",
      "source": [
        "df_updated.count()"
      ],
      "metadata": {
        "colab": {
          "base_uri": "https://localhost:8080/"
        },
        "id": "5OAA7Fi24o4R",
        "outputId": "6e2b49a3-df0c-47df-c4af-5c1a47829137"
      },
      "execution_count": null,
      "outputs": [
        {
          "output_type": "execute_result",
          "data": {
            "text/plain": [
              "4001"
            ]
          },
          "metadata": {},
          "execution_count": 24
        }
      ]
    },
    {
      "cell_type": "markdown",
      "source": [],
      "metadata": {
        "id": "Mb3FQWjw4tYc"
      }
    },
    {
      "cell_type": "code",
      "source": [
        "df_updated.printSchema()"
      ],
      "metadata": {
        "colab": {
          "base_uri": "https://localhost:8080/"
        },
        "id": "wFdmlq985MsO",
        "outputId": "d2b09ae7-128d-4a7d-891d-f421e47f02ff"
      },
      "execution_count": null,
      "outputs": [
        {
          "output_type": "stream",
          "name": "stdout",
          "text": [
            "root\n",
            " |-- user_id: integer (nullable = true)\n",
            " |-- teamchat_session_id: integer (nullable = true)\n",
            " |-- date: integer (nullable = true)\n",
            "\n"
          ]
        }
      ]
    },
    {
      "cell_type": "markdown",
      "source": [
        "## 1. Most Popular User Platform"
      ],
      "metadata": {
        "id": "rTUHrngAq4S2"
      }
    },
    {
      "cell_type": "code",
      "source": [
        "user_session_df = spark.read.csv(\"/content/user-session.csv\", header=True, inferSchema=True)"
      ],
      "metadata": {
        "id": "_XvbgrKN643Q"
      },
      "execution_count": null,
      "outputs": []
    },
    {
      "cell_type": "code",
      "source": [
        "user_session_df.show(5)"
      ],
      "metadata": {
        "colab": {
          "base_uri": "https://localhost:8080/"
        },
        "id": "awXbWWJms9kU",
        "outputId": "632ca46b-19a3-4c73-fbea-1d397689f7fc"
      },
      "execution_count": null,
      "outputs": [
        {
          "output_type": "stream",
          "name": "stdout",
          "text": [
            "+-------------------+-------------+------+------+------------+-----------+---------+------------+\n",
            "|          timestamp|userSessionId|userId|teamId|assignmentId|sessionType|teamLevel|platformType|\n",
            "+-------------------+-------------+------+------+------------+-----------+---------+------------+\n",
            "|2016-05-26 14:47:30|         5675|   170|    90|        5423|      start|        1|      iphone|\n",
            "|2016-05-27 00:06:54|         5675|   170|    90|        5423|        end|        1|      iphone|\n",
            "|2016-05-26 14:43:09|         5795|   835|    39|        5300|      start|        1|     android|\n",
            "|2016-05-27 08:06:54|         5795|   835|    39|        5300|        end|        1|     android|\n",
            "|2016-05-26 14:47:20|         5833|   624|     2|        5529|      start|        1|      iphone|\n",
            "+-------------------+-------------+------+------+------------+-----------+---------+------------+\n",
            "only showing top 5 rows\n",
            "\n"
          ]
        }
      ]
    },
    {
      "cell_type": "code",
      "source": [
        "import pyspark.sql.functions as F\n",
        "import matplotlib.pyplot as plt\n",
        "\n",
        "platform_users = user_session_df.groupby('platformType').agg(\n",
        "    (F.count('userId')).alias('count'),\n",
        "    (F.count('userId') / user_session_df.count() * 100).alias('percentage')\n",
        ")\n",
        "\n",
        "platform_users.show()\n",
        "\n",
        "platform_users_data = platform_users.toPandas()\n",
        "\n",
        "labels = platform_users_data['platformType']\n",
        "sizes = platform_users_data['percentage']\n",
        "\n",
        "explode = (0.1, 0, 0, 0,0)  # only \"explode\" the 1st slice (i.e. Web App)\n",
        "\n",
        "fig, ax = plt.subplots()\n",
        "ax.pie(sizes, explode=explode, labels=labels, autopct='%1.1f%%',\n",
        "        shadow=True, startangle=90)\n",
        "ax.set_title(\"Most Popular User Platform\")\n",
        "plt.show()"
      ],
      "metadata": {
        "colab": {
          "base_uri": "https://localhost:8080/",
          "height": 598
        },
        "id": "Lij5pGWfxsbB",
        "outputId": "d7a7dbf8-9e4b-40b6-e1e2-04070f937136"
      },
      "execution_count": null,
      "outputs": [
        {
          "output_type": "stream",
          "name": "stdout",
          "text": [
            "+------------+-----+------------------+\n",
            "|platformType|count|        percentage|\n",
            "+------------+-----+------------------+\n",
            "|      iphone| 3874| 41.88108108108108|\n",
            "|     android| 3274|35.394594594594594|\n",
            "|       linux|  504| 5.448648648648648|\n",
            "|         mac|  358|  3.87027027027027|\n",
            "|     windows| 1240|13.405405405405405|\n",
            "+------------+-----+------------------+\n",
            "\n"
          ]
        },
        {
          "output_type": "display_data",
          "data": {
            "text/plain": [
              "<Figure size 640x480 with 1 Axes>"
            ],
            "image/png": "[encoded data removed]"
          },
          "metadata": {}
        }
      ]
    },
    {
      "cell_type": "markdown",
      "source": [
        "## 2. Age Group of Players"
      ],
      "metadata": {
        "id": "_Hb8pPV34sTL"
      }
    },
    {
      "cell_type": "code",
      "source": [
        "user_df = spark.read.csv(\"/content/users.csv\", header=True, inferSchema=True)"
      ],
      "metadata": {
        "id": "pxfyE1SjBw8Q"
      },
      "execution_count": null,
      "outputs": []
    },
    {
      "cell_type": "code",
      "source": [
        "from pyspark.sql import functions as F\n",
        "\n",
        "# Resource for below Code : https://stackoverflow.com/questions/62148704/date-difference-in-years-in-pyspark-dataframe\n",
        "\n",
        "user_with_age_df = user_df.withColumn(\"age\",(F.months_between(F.current_date(), F.col('dob')) / 12).cast('int'))\n",
        "\n",
        "user_with_age_df.show(10)"
      ],
      "metadata": {
        "colab": {
          "base_uri": "https://localhost:8080/"
        },
        "id": "Kkj6tPnsGaPi",
        "outputId": "84ddd4fe-0353-4d2e-8ee4-bff9f934e487"
      },
      "execution_count": null,
      "outputs": [
        {
          "output_type": "stream",
          "name": "stdout",
          "text": [
            "+-------------------+------+-----------+----------+----------+-------+---+\n",
            "|          timestamp|userId|       nick|   twitter|       dob|country|age|\n",
            "+-------------------+------+-----------+----------+----------+-------+---+\n",
            "|2012-06-19 14:53:41|   442|   pcjIOBKW|  @SZhyOHv|1994-07-20|     BA| 28|\n",
            "|2012-06-19 19:29:01|   949|    vAOfUkf|    @nkkNo|1971-04-22|     HU| 52|\n",
            "|2012-06-20 19:34:59|  1654|     qOOXSQ|    @SwOlw|1970-04-19|     IS| 53|\n",
            "|2012-06-21 01:18:29|  1586|    px4gW51|  @IrCHTnE|1965-11-23|     AM| 57|\n",
            "|2012-06-21 15:35:00|   599|9gkfwRC73Uc|   @VJj0Az|1994-08-23|     CC| 28|\n",
            "|2012-06-22 11:36:19|   952| BRbb3VOTti|   @b4OK6K|1986-09-11|     MH| 36|\n",
            "|2012-06-23 08:11:18|  1056|    fGCIAtI| @IgDsdWdU|1991-11-28|     SM| 31|\n",
            "|2012-06-23 10:54:19|    91|tpDfgi3S0N9|   @LvTHGO|1977-07-03|     BZ| 45|\n",
            "|2012-06-23 14:59:26|   809| LkNRpRW6Ez|@ROrRkXwdh|1951-09-25|     PF| 71|\n",
            "|2012-06-23 17:40:35|    75|     fNWewX|   @OXqLyv|1979-11-12|     JO| 43|\n",
            "+-------------------+------+-----------+----------+----------+-------+---+\n",
            "only showing top 10 rows\n",
            "\n"
          ]
        }
      ]
    },
    {
      "cell_type": "code",
      "source": [
        "\n",
        "from pyspark.sql.functions import udf\n",
        "\n",
        "\n",
        "age_range = udf(lambda age: '< 20' if age < 20 else \n",
        "                       '20-29' if (age >= 20 and age < 30) else\n",
        "                       '30-39' if (age >= 30 and age < 40) else\n",
        "                       '40-49' if (age >= 40 and age < 50) else        \n",
        "                       '50-59' if (age >= 50 and age < 60) else\n",
        "                       '60-70' if (age >= 60 and age < 70) else\n",
        "                       '70-79' if (age >= 70 and age < 79) else\n",
        "                       '80-100' if (age >= 80 and age < 101)  else \"\"    \n",
        "                       )\n",
        "\n",
        "user_with_age_df = user_with_age_df.withColumn('age_group', age_range(user_with_age_df.age))\n",
        "user_with_age_df.show()"
      ],
      "metadata": {
        "colab": {
          "base_uri": "https://localhost:8080/"
        },
        "id": "Vgr9iusGGsxo",
        "outputId": "11b31485-7ab8-4d47-8461-9845aa503ded"
      },
      "execution_count": null,
      "outputs": [
        {
          "output_type": "stream",
          "name": "stdout",
          "text": [
            "+-------------------+------+-----------+----------+----------+-------+---+---------+\n",
            "|          timestamp|userId|       nick|   twitter|       dob|country|age|age_group|\n",
            "+-------------------+------+-----------+----------+----------+-------+---+---------+\n",
            "|2012-06-19 14:53:41|   442|   pcjIOBKW|  @SZhyOHv|1994-07-20|     BA| 28|    20-29|\n",
            "|2012-06-19 19:29:01|   949|    vAOfUkf|    @nkkNo|1971-04-22|     HU| 52|    50-59|\n",
            "|2012-06-20 19:34:59|  1654|     qOOXSQ|    @SwOlw|1970-04-19|     IS| 53|    50-59|\n",
            "|2012-06-21 01:18:29|  1586|    px4gW51|  @IrCHTnE|1965-11-23|     AM| 57|    50-59|\n",
            "|2012-06-21 15:35:00|   599|9gkfwRC73Uc|   @VJj0Az|1994-08-23|     CC| 28|    20-29|\n",
            "|2012-06-22 11:36:19|   952| BRbb3VOTti|   @b4OK6K|1986-09-11|     MH| 36|    30-39|\n",
            "|2012-06-23 08:11:18|  1056|    fGCIAtI| @IgDsdWdU|1991-11-28|     SM| 31|    30-39|\n",
            "|2012-06-23 10:54:19|    91|tpDfgi3S0N9|   @LvTHGO|1977-07-03|     BZ| 45|    40-49|\n",
            "|2012-06-23 14:59:26|   809| LkNRpRW6Ez|@ROrRkXwdh|1951-09-25|     PF| 71|    70-79|\n",
            "|2012-06-23 17:40:35|    75|     fNWewX|   @OXqLyv|1979-11-12|     JO| 43|    40-49|\n",
            "|2012-06-23 17:57:05|  2224|   rvXvUU9J|  @YexGCPm|1996-08-27|     GW| 26|    20-29|\n",
            "|2012-06-24 05:29:24|   361|    Pk8oT6o|    @9YksF|1980-10-18|     CK| 42|    40-49|\n",
            "|2012-06-24 23:33:59|   584|TBRJ3YueQCa|    @QsYLb|1957-02-17|     MD| 66|    60-70|\n",
            "|2012-06-25 01:48:50|   295|zBxoWozeDlB| @An4tm5np|1977-03-02|     HK| 46|    40-49|\n",
            "|2012-06-25 02:01:25|  1493|     GnvF8P|  @KnN5TLT|1979-10-05|     QA| 43|    40-49|\n",
            "|2012-06-25 06:38:10|  1605|  m7eHxdgoz| @tcfAzJ3m|1981-10-23|     ZA| 41|    40-49|\n",
            "|2012-06-25 15:04:21|   848|  ZWIRmprJd| @qrP2pQcE|1989-06-20|     SE| 33|    30-39|\n",
            "|2012-06-25 16:53:28|   962|  19aggoZfQ|  @u5Smf32|1949-08-12|     MM| 73|    70-79|\n",
            "|2012-06-26 15:12:33|  2034| olBz6o3Ulg| @lxLPvLKK|1983-12-04|     FO| 39|    30-39|\n",
            "|2012-06-26 22:42:21|   379|  R1Mk1AVrv|    @UGHdE|1980-05-03|     DJ| 43|    40-49|\n",
            "+-------------------+------+-----------+----------+----------+-------+---+---------+\n",
            "only showing top 20 rows\n",
            "\n"
          ]
        }
      ]
    },
    {
      "cell_type": "code",
      "source": [
        "\n",
        "data = user_with_age_df.toPandas()\n",
        "data.loc[data['age']<=19, 'age_group'] = 'teenage'\n",
        "data.loc[data['age'].between(20,35), 'age_group'] = '20-35'\n",
        "data.loc[data['age'].between(36,50), 'age_group'] = '36-50'\n",
        "data.loc[data['age'].between(51,65), 'age_group'] = '51-65'\n",
        "data.loc[data['age'].between(66,100), 'age_group'] = '66-100'\n",
        "\n",
        "data"
      ],
      "metadata": {
        "colab": {
          "base_uri": "https://localhost:8080/",
          "height": 419
        },
        "id": "KOCL0nPSHBKu",
        "outputId": "e64394d7-c23d-4265-e552-fd650010365f"
      },
      "execution_count": null,
      "outputs": [
        {
          "output_type": "execute_result",
          "data": {
            "text/plain": [
              "                timestamp  userId         nick     twitter         dob  \\\n",
              "0     2012-06-19 14:53:41     442     pcjIOBKW    @SZhyOHv  1994-07-20   \n",
              "1     2012-06-19 19:29:01     949      vAOfUkf      @nkkNo  1971-04-22   \n",
              "2     2012-06-20 19:34:59    1654       qOOXSQ      @SwOlw  1970-04-19   \n",
              "3     2012-06-21 01:18:29    1586      px4gW51    @IrCHTnE  1965-11-23   \n",
              "4     2012-06-21 15:35:00     599  9gkfwRC73Uc     @VJj0Az  1994-08-23   \n",
              "...                   ...     ...          ...         ...         ...   \n",
              "2388  2016-06-11 05:17:17    2312    CJOHXgqKh  @ZomNVFWoF  1996-10-05   \n",
              "2389  2016-06-14 03:19:04     100      lJexGia  @BYQ14xmNd  1987-05-25   \n",
              "2390  2016-06-14 10:40:22     651   iynipG41EV  @nXTCcg7sV  1987-04-08   \n",
              "2391  2016-06-15 16:33:25    2390   hH9wrFLdTt    @KimUIQF  1991-03-02   \n",
              "2392  2016-06-16 05:39:34    2032  qN1yFPzBziE  @LjYnHRVjD  1997-07-22   \n",
              "\n",
              "     country  age age_group  \n",
              "0         BA   28     20-35  \n",
              "1         HU   52     51-65  \n",
              "2         IS   53     51-65  \n",
              "3         AM   57     51-65  \n",
              "4         CC   28     20-35  \n",
              "...      ...  ...       ...  \n",
              "2388      MT   26     20-35  \n",
              "2389      CR   35     20-35  \n",
              "2390      CI   36     36-50  \n",
              "2391      TK   32     20-35  \n",
              "2392      JP   25     20-35  \n",
              "\n",
              "[2393 rows x 8 columns]"
            ],
            "text/html": [
              "\n",
              "  <div id=\"df-07d4cc1d-d0b7-4863-a1e4-89f583341683\">\n",
              "    <div class=\"colab-df-container\">\n",
              "      <div>\n",
              "<style scoped>\n",
              "    .dataframe tbody tr th:only-of-type {\n",
              "        vertical-align: middle;\n",
              "    }\n",
              "\n",
              "    .dataframe tbody tr th {\n",
              "        vertical-align: top;\n",
              "    }\n",
              "\n",
              "    .dataframe thead th {\n",
              "        text-align: right;\n",
              "    }\n",
              "</style>\n",
              "<table border=\"1\" class=\"dataframe\">\n",
              "  <thead>\n",
              "    <tr style=\"text-align: right;\">\n",
              "      <th></th>\n",
              "      <th>timestamp</th>\n",
              "      <th>userId</th>\n",
              "      <th>nick</th>\n",
              "      <th>twitter</th>\n",
              "      <th>dob</th>\n",
              "      <th>country</th>\n",
              "      <th>age</th>\n",
              "      <th>age_group</th>\n",
              "    </tr>\n",
              "  </thead>\n",
              "  <tbody>\n",
              "    <tr>\n",
              "      <th>0</th>\n",
              "      <td>2012-06-19 14:53:41</td>\n",
              "      <td>442</td>\n",
              "      <td>pcjIOBKW</td>\n",
              "      <td>@SZhyOHv</td>\n",
              "      <td>1994-07-20</td>\n",
              "      <td>BA</td>\n",
              "      <td>28</td>\n",
              "      <td>20-35</td>\n",
              "    </tr>\n",
              "    <tr>\n",
              "      <th>1</th>\n",
              "      <td>2012-06-19 19:29:01</td>\n",
              "      <td>949</td>\n",
              "      <td>vAOfUkf</td>\n",
              "      <td>@nkkNo</td>\n",
              "      <td>1971-04-22</td>\n",
              "      <td>HU</td>\n",
              "      <td>52</td>\n",
              "      <td>51-65</td>\n",
              "    </tr>\n",
              "    <tr>\n",
              "      <th>2</th>\n",
              "      <td>2012-06-20 19:34:59</td>\n",
              "      <td>1654</td>\n",
              "      <td>qOOXSQ</td>\n",
              "      <td>@SwOlw</td>\n",
              "      <td>1970-04-19</td>\n",
              "      <td>IS</td>\n",
              "      <td>53</td>\n",
              "      <td>51-65</td>\n",
              "    </tr>\n",
              "    <tr>\n",
              "      <th>3</th>\n",
              "      <td>2012-06-21 01:18:29</td>\n",
              "      <td>1586</td>\n",
              "      <td>px4gW51</td>\n",
              "      <td>@IrCHTnE</td>\n",
              "      <td>1965-11-23</td>\n",
              "      <td>AM</td>\n",
              "      <td>57</td>\n",
              "      <td>51-65</td>\n",
              "    </tr>\n",
              "    <tr>\n",
              "      <th>4</th>\n",
              "      <td>2012-06-21 15:35:00</td>\n",
              "      <td>599</td>\n",
              "      <td>9gkfwRC73Uc</td>\n",
              "      <td>@VJj0Az</td>\n",
              "      <td>1994-08-23</td>\n",
              "      <td>CC</td>\n",
              "      <td>28</td>\n",
              "      <td>20-35</td>\n",
              "    </tr>\n",
              "    <tr>\n",
              "      <th>...</th>\n",
              "      <td>...</td>\n",
              "      <td>...</td>\n",
              "      <td>...</td>\n",
              "      <td>...</td>\n",
              "      <td>...</td>\n",
              "      <td>...</td>\n",
              "      <td>...</td>\n",
              "      <td>...</td>\n",
              "    </tr>\n",
              "    <tr>\n",
              "      <th>2388</th>\n",
              "      <td>2016-06-11 05:17:17</td>\n",
              "      <td>2312</td>\n",
              "      <td>CJOHXgqKh</td>\n",
              "      <td>@ZomNVFWoF</td>\n",
              "      <td>1996-10-05</td>\n",
              "      <td>MT</td>\n",
              "      <td>26</td>\n",
              "      <td>20-35</td>\n",
              "    </tr>\n",
              "    <tr>\n",
              "      <th>2389</th>\n",
              "      <td>2016-06-14 03:19:04</td>\n",
              "      <td>100</td>\n",
              "      <td>lJexGia</td>\n",
              "      <td>@BYQ14xmNd</td>\n",
              "      <td>1987-05-25</td>\n",
              "      <td>CR</td>\n",
              "      <td>35</td>\n",
              "      <td>20-35</td>\n",
              "    </tr>\n",
              "    <tr>\n",
              "      <th>2390</th>\n",
              "      <td>2016-06-14 10:40:22</td>\n",
              "      <td>651</td>\n",
              "      <td>iynipG41EV</td>\n",
              "      <td>@nXTCcg7sV</td>\n",
              "      <td>1987-04-08</td>\n",
              "      <td>CI</td>\n",
              "      <td>36</td>\n",
              "      <td>36-50</td>\n",
              "    </tr>\n",
              "    <tr>\n",
              "      <th>2391</th>\n",
              "      <td>2016-06-15 16:33:25</td>\n",
              "      <td>2390</td>\n",
              "      <td>hH9wrFLdTt</td>\n",
              "      <td>@KimUIQF</td>\n",
              "      <td>1991-03-02</td>\n",
              "      <td>TK</td>\n",
              "      <td>32</td>\n",
              "      <td>20-35</td>\n",
              "    </tr>\n",
              "    <tr>\n",
              "      <th>2392</th>\n",
              "      <td>2016-06-16 05:39:34</td>\n",
              "      <td>2032</td>\n",
              "      <td>qN1yFPzBziE</td>\n",
              "      <td>@LjYnHRVjD</td>\n",
              "      <td>1997-07-22</td>\n",
              "      <td>JP</td>\n",
              "      <td>25</td>\n",
              "      <td>20-35</td>\n",
              "    </tr>\n",
              "  </tbody>\n",
              "</table>\n",
              "<p>2393 rows × 8 columns</p>\n",
              "</div>\n",
              "      <button class=\"colab-df-convert\" onclick=\"convertToInteractive('df-07d4cc1d-d0b7-4863-a1e4-89f583341683')\"\n",
              "              title=\"Convert this dataframe to an interactive table.\"\n",
              "              style=\"display:none;\">\n",
              "        \n",
              "  <svg xmlns=\"http://www.w3.org/2000/svg\" height=\"24px\"viewBox=\"0 0 24 24\"\n",
              "       width=\"24px\">\n",
              "    <path d=\"M0 0h24v24H0V0z\" fill=\"none\"/>\n",
              "    <path d=\"M18.56 5.44l.94 2.06.94-2.06 2.06-.94-2.06-.94-.94-2.06-.94 2.06-2.06.94zm-11 1L8.5 8.5l.94-2.06 2.06-.94-2.06-.94L8.5 2.5l-.94 2.06-2.06.94zm10 10l.94 2.06.94-2.06 2.06-.94-2.06-.94-.94-2.06-.94 2.06-2.06.94z\"/><path d=\"M17.41 7.96l-1.37-1.37c-.4-.4-.92-.59-1.43-.59-.52 0-1.04.2-1.43.59L10.3 9.45l-7.72 7.72c-.78.78-.78 2.05 0 2.83L4 21.41c.39.39.9.59 1.41.59.51 0 1.02-.2 1.41-.59l7.78-7.78 2.81-2.81c.8-.78.8-2.07 0-2.86zM5.41 20L4 18.59l7.72-7.72 1.47 1.35L5.41 20z\"/>\n",
              "  </svg>\n",
              "      </button>\n",
              "      \n",
              "  <style>\n",
              "    .colab-df-container {\n",
              "      display:flex;\n",
              "      flex-wrap:wrap;\n",
              "      gap: 12px;\n",
              "    }\n",
              "\n",
              "    .colab-df-convert {\n",
              "      background-color: #E8F0FE;\n",
              "      border: none;\n",
              "      border-radius: 50%;\n",
              "      cursor: pointer;\n",
              "      display: none;\n",
              "      fill: #1967D2;\n",
              "      height: 32px;\n",
              "      padding: 0 0 0 0;\n",
              "      width: 32px;\n",
              "    }\n",
              "\n",
              "    .colab-df-convert:hover {\n",
              "      background-color: #E2EBFA;\n",
              "      box-shadow: 0px 1px 2px rgba(60, 64, 67, 0.3), 0px 1px 3px 1px rgba(60, 64, 67, 0.15);\n",
              "      fill: #174EA6;\n",
              "    }\n",
              "\n",
              "    [theme=dark] .colab-df-convert {\n",
              "      background-color: #3B4455;\n",
              "      fill: #D2E3FC;\n",
              "    }\n",
              "\n",
              "    [theme=dark] .colab-df-convert:hover {\n",
              "      background-color: #434B5C;\n",
              "      box-shadow: 0px 1px 3px 1px rgba(0, 0, 0, 0.15);\n",
              "      filter: drop-shadow(0px 1px 2px rgba(0, 0, 0, 0.3));\n",
              "      fill: #FFFFFF;\n",
              "    }\n",
              "  </style>\n",
              "\n",
              "      <script>\n",
              "        const buttonEl =\n",
              "          document.querySelector('#df-07d4cc1d-d0b7-4863-a1e4-89f583341683 button.colab-df-convert');\n",
              "        buttonEl.style.display =\n",
              "          google.colab.kernel.accessAllowed ? 'block' : 'none';\n",
              "\n",
              "        async function convertToInteractive(key) {\n",
              "          const element = document.querySelector('#df-07d4cc1d-d0b7-4863-a1e4-89f583341683');\n",
              "          const dataTable =\n",
              "            await google.colab.kernel.invokeFunction('convertToInteractive',\n",
              "                                                     [key], {});\n",
              "          if (!dataTable) return;\n",
              "\n",
              "          const docLinkHtml = 'Like what you see? Visit the ' +\n",
              "            '<a target=\"_blank\" href=https://colab.research.google.com/notebooks/data_table.ipynb>data table notebook</a>'\n",
              "            + ' to learn more about interactive tables.';\n",
              "          element.innerHTML = '';\n",
              "          dataTable['output_type'] = 'display_data';\n",
              "          await google.colab.output.renderOutput(dataTable, element);\n",
              "          const docLink = document.createElement('div');\n",
              "          docLink.innerHTML = docLinkHtml;\n",
              "          element.appendChild(docLink);\n",
              "        }\n",
              "      </script>\n",
              "    </div>\n",
              "  </div>\n",
              "  "
            ]
          },
          "metadata": {},
          "execution_count": 24
        }
      ]
    },
    {
      "cell_type": "code",
      "source": [
        "\n",
        "from pyspark.sql import Window\n",
        "from pyspark.sql.functions import rank,sum,col\n",
        "import pyspark.sql.functions as f\n",
        "\n",
        "\n",
        "window = Window.rowsBetween(Window.unboundedPreceding,Window.unboundedFollowing)\n",
        "\n",
        "w = Window.partitionBy('x')\n",
        "\n",
        "user_with_age_df_grouped = user_with_age_df.groupBy('age_group').count()\\\n",
        "        .select('age_group', f.col('count').alias('age_group_count'))\\\n",
        "        .sort(f.asc(\"age_group\")) \n",
        "\n",
        "\n",
        "user_with_age_df_grouped.show()"
      ],
      "metadata": {
        "colab": {
          "base_uri": "https://localhost:8080/"
        },
        "id": "Us1FzL_PHINc",
        "outputId": "3f8326a5-12a4-4bcf-d4da-3090565b9a3b"
      },
      "execution_count": null,
      "outputs": [
        {
          "output_type": "stream",
          "name": "stdout",
          "text": [
            "+---------+---------------+\n",
            "|age_group|age_group_count|\n",
            "+---------+---------------+\n",
            "|    20-29|            310|\n",
            "|    30-39|            602|\n",
            "|    40-49|            552|\n",
            "|    50-59|            432|\n",
            "|    60-70|            325|\n",
            "|    70-79|            172|\n",
            "+---------+---------------+\n",
            "\n"
          ]
        }
      ]
    },
    {
      "cell_type": "code",
      "source": [
        "import matplotlib.pyplot as plt\n",
        "import numpy as np\n",
        "import seaborn as sns\n",
        " \n",
        "data = user_with_age_df_grouped.toPandas()\n",
        "# create a dataset\n",
        "height = data['age_group_count']\n",
        "bars = data['age_group']\n",
        "x_pos = np.arange(len(bars))\n",
        "\n",
        "# Create bars with different colors\n",
        "plt.bar(x_pos, height, color=['black', 'red', 'green', 'blue', 'cyan'])\n",
        "\n",
        "# Create names on the x-axis\n",
        "plt.xticks(x_pos, bars)\n",
        "\n",
        "# Show graph\n",
        "plt.show()\n",
        "\n",
        "###Seaborn bar plot\n",
        "\n",
        "ax = sns.barplot(x = \"age_group\", y = \"age_group_count\", data = data ,palette='Greens_d')\n",
        "\n",
        "ax.bar_label(ax.containers[0])\n",
        "\n",
        "plt.title(\"Age Group Count Of Players\", fontsize=20)\n",
        "plt.ylabel('Counts')\n",
        "plt.xlabel('Age Group')"
      ],
      "metadata": {
        "colab": {
          "base_uri": "https://localhost:8080/",
          "height": 910
        },
        "id": "J9JcK_kDHVLL",
        "outputId": "b8ccb88a-b5a1-46b8-ed99-6b86794cbdde"
      },
      "execution_count": null,
      "outputs": [
        {
          "output_type": "display_data",
          "data": {
            "text/plain": [
              "<Figure size 640x480 with 1 Axes>"
            ],
            "image/png": "[encoded data removed]"
          },
          "metadata": {}
        },
        {
          "output_type": "execute_result",
          "data": {
            "text/plain": [
              "Text(0.5, 0, 'Age Group')"
            ]
          },
          "metadata": {},
          "execution_count": 20
        },
        {
          "output_type": "display_data",
          "data": {
            "text/plain": [
              "<Figure size 640x480 with 1 Axes>"
            ],
            "image/png": "[encoded data removed]"
          },
          "metadata": {}
        }
      ]
    },
    {
      "cell_type": "markdown",
      "source": [
        "## 3. Top spending teams"
      ],
      "metadata": {
        "id": "rVxTQc0t5R4j"
      }
    },
    {
      "cell_type": "code",
      "source": [
        "buy_df = spark.read.csv(\"/content/buy-clicks.csv\", header=True, inferSchema=True)"
      ],
      "metadata": {
        "id": "rj1ahmKpUvMK"
      },
      "execution_count": null,
      "outputs": []
    },
    {
      "cell_type": "code",
      "source": [
        "buy_df.printSchema()"
      ],
      "metadata": {
        "id": "RJUfI_c_UvPr",
        "colab": {
          "base_uri": "https://localhost:8080/"
        },
        "outputId": "9baa4d3f-5434-4b66-f963-dd32f692db38"
      },
      "execution_count": null,
      "outputs": [
        {
          "output_type": "stream",
          "name": "stdout",
          "text": [
            "root\n",
            " |-- timestamp: string (nullable = true)\n",
            " |-- txId: integer (nullable = true)\n",
            " |-- userSessionId: integer (nullable = true)\n",
            " |-- team: integer (nullable = true)\n",
            " |-- userId: integer (nullable = true)\n",
            " |-- buyId: integer (nullable = true)\n",
            " |-- price: double (nullable = true)\n",
            "\n"
          ]
        }
      ]
    },
    {
      "cell_type": "code",
      "source": [
        "buy_df.show()"
      ],
      "metadata": {
        "id": "TTzDdq6YZhge",
        "outputId": "d68219ab-e30e-449a-8364-dbb463120500",
        "colab": {
          "base_uri": "https://localhost:8080/"
        }
      },
      "execution_count": null,
      "outputs": [
        {
          "output_type": "stream",
          "name": "stdout",
          "text": [
            "+-------------------+----+-------------+----+------+-----+-----+\n",
            "|          timestamp|txId|userSessionId|team|userId|buyId|price|\n",
            "+-------------------+----+-------------+----+------+-----+-----+\n",
            "|2016-05-26 15:36:54|6004|         5820|   9|  1300|    2|  3.0|\n",
            "|2016-05-26 15:36:54|6005|         5775|  35|   868|    4| 10.0|\n",
            "|2016-05-26 15:36:54|6006|         5679|  97|   819|    5| 20.0|\n",
            "|2016-05-26 16:36:54|6067|         5665|  18|   121|    2|  3.0|\n",
            "|2016-05-26 17:06:54|6093|         5709|  11|  2222|    5| 20.0|\n",
            "|2016-05-26 17:06:54|6094|         5798|  77|  1304|    5| 20.0|\n",
            "|2016-05-26 18:06:54|6155|         5920|   9|  1027|    5| 20.0|\n",
            "|2016-05-26 18:06:54|6156|         5697|  35|  2199|    2|  3.0|\n",
            "|2016-05-26 18:36:54|6183|         5893|  64|  1544|    5| 20.0|\n",
            "|2016-05-26 18:36:54|6184|         5697|  35|  2199|    1|  2.0|\n",
            "|2016-05-26 19:36:54|6243|         5659|  13|  1623|    4| 10.0|\n",
            "|2016-05-26 19:36:54|6244|         5920|   9|  1027|    3|  5.0|\n",
            "|2016-05-26 20:06:54|6269|         5785|  27|  1065|    5| 20.0|\n",
            "|2016-05-26 20:06:54|6270|         5661|  63|    83|    3|  5.0|\n",
            "|2016-05-26 20:06:54|6271|         5706|   9|  1652|    0|  1.0|\n",
            "|2016-05-26 20:36:54|6292|         5921|   2|   518|    0|  1.0|\n",
            "|2016-05-26 21:06:54|6327|         5860|  57|  2221|    5| 20.0|\n",
            "|2016-05-26 22:06:54|6394|         6088|  32|  1815|    2|  3.0|\n",
            "|2016-05-26 22:06:54|6395|         5880|  35|  2146|    1|  2.0|\n",
            "|2016-05-26 22:36:54|6411|         6230|  77|  1457|    0|  1.0|\n",
            "+-------------------+----+-------------+----+------+-----+-----+\n",
            "only showing top 20 rows\n",
            "\n"
          ]
        }
      ]
    },
    {
      "cell_type": "code",
      "source": [
        "from pyspark.sql.functions import desc\n",
        "\n",
        "team_spend_df = buy_df.groupBy('team').sum('price').orderBy(desc(\"sum(price)\")).limit(15)\n"
      ],
      "metadata": {
        "id": "XSLC-VeFZ3C7"
      },
      "execution_count": null,
      "outputs": []
    },
    {
      "cell_type": "code",
      "source": [
        "team_spend_df.show()"
      ],
      "metadata": {
        "id": "nZBjzCcziRMS",
        "outputId": "08a4cdb8-4000-4d7a-9592-d384a0cd8a5c",
        "colab": {
          "base_uri": "https://localhost:8080/"
        }
      },
      "execution_count": null,
      "outputs": [
        {
          "output_type": "stream",
          "name": "stdout",
          "text": [
            "+----+----------+\n",
            "|team|sum(price)|\n",
            "+----+----------+\n",
            "|  27|     880.0|\n",
            "|  54|     777.0|\n",
            "|  35|     710.0|\n",
            "|  64|     693.0|\n",
            "|  53|     677.0|\n",
            "|  66|     647.0|\n",
            "|  59|     644.0|\n",
            "|  11|     587.0|\n",
            "|  97|     549.0|\n",
            "|  22|     535.0|\n",
            "|  72|     534.0|\n",
            "|   9|     513.0|\n",
            "|  20|     458.0|\n",
            "|  94|     450.0|\n",
            "|  13|     448.0|\n",
            "+----+----------+\n",
            "\n"
          ]
        }
      ]
    },
    {
      "cell_type": "code",
      "source": [
        "#Dot plot visualisation\n",
        "import matplotlib.pyplot as plt\n",
        "\n",
        "df = team_spend_df.toPandas()\n",
        "df.reset_index(inplace=True)\n",
        "\n",
        "fig, ax = plt.subplots(figsize=(16,10), dpi= 80)\n",
        "ax.hlines(y=df.index, xmin=100, xmax=900, color='gray', alpha=0.7, linewidth=1, linestyles='dashdot')\n",
        "ax.scatter(y=df.index, x=df['sum(price)'], s=75, color='firebrick', alpha=0.7)\n",
        "\n",
        "# Title, Label, Ticks and Ylim\n",
        "ax.set_title('Dot Plot for Team Spends', fontdict={'size':22})\n",
        "ax.set_xlabel('Spend')\n",
        "ax.set_ylabel('Team ID')\n",
        "ax.set_yticks(df.index)\n",
        "ax.set_yticklabels(df['team'], fontdict={'horizontalalignment': 'right'})\n",
        "ax.set_xlim(400, 900)\n",
        "plt.show()"
      ],
      "metadata": {
        "id": "OzJ8gODBcoov",
        "outputId": "822bec8b-1bb9-4743-88cd-834bcd8ec534",
        "colab": {
          "base_uri": "https://localhost:8080/",
          "height": 681
        }
      },
      "execution_count": null,
      "outputs": [
        {
          "output_type": "display_data",
          "data": {
            "text/plain": [
              "<Figure size 1280x800 with 1 Axes>"
            ],
            "image/png": "[encoded data removed]"
          },
          "metadata": {}
        }
      ]
    },
    {
      "cell_type": "markdown",
      "source": [
        "## 4. Team spending and Team Strength"
      ],
      "metadata": {
        "id": "scVr6Qpa5Xtq"
      }
    },
    {
      "cell_type": "code",
      "source": [
        "team_df = spark.read.csv(\"/content/team.csv\", header=True, inferSchema=True)"
      ],
      "metadata": {
        "id": "U08_MIBRncEh"
      },
      "execution_count": null,
      "outputs": []
    },
    {
      "cell_type": "code",
      "source": [
        "team_df.printSchema()"
      ],
      "metadata": {
        "id": "XiPOZUsXo29m",
        "outputId": "df8b0c51-07f7-481f-9797-394bc7664502",
        "colab": {
          "base_uri": "https://localhost:8080/"
        }
      },
      "execution_count": null,
      "outputs": [
        {
          "output_type": "stream",
          "name": "stdout",
          "text": [
            "root\n",
            " |-- teamId: integer (nullable = true)\n",
            " |-- name: string (nullable = true)\n",
            " |-- teamCreationTime: string (nullable = true)\n",
            " |-- teamEndTime: string (nullable = true)\n",
            " |-- strength: double (nullable = true)\n",
            " |-- currentLevel: integer (nullable = true)\n",
            "\n"
          ]
        }
      ]
    },
    {
      "cell_type": "code",
      "source": [
        "team_df.show(5)"
      ],
      "metadata": {
        "id": "KoElmVeJo8vH",
        "outputId": "b8a9e7b7-0614-424d-aeb0-cd67b4c964f2",
        "colab": {
          "base_uri": "https://localhost:8080/"
        }
      },
      "execution_count": null,
      "outputs": [
        {
          "output_type": "stream",
          "name": "stdout",
          "text": [
            "+------+----------+-------------------+-------------------+--------------+------------+\n",
            "|teamId|      name|   teamCreationTime|        teamEndTime|      strength|currentLevel|\n",
            "+------+----------+-------------------+-------------------+--------------+------------+\n",
            "|    79|   O1uJX7C|2016-06-12 15:33:27|9999-12-31 23:59:59|0.774473575316|           1|\n",
            "|    92|  WeLHp8HZ|2016-06-12 21:54:20|9999-12-31 23:59:59| 0.17192602642|           1|\n",
            "|     6|    mARlfz|2016-06-12 23:02:16|9999-12-31 23:59:59|0.537353043526|           1|\n",
            "|     7|xO41jlAo0Y|2016-06-13 06:03:03|9999-12-31 23:59:59|0.394370370549|           1|\n",
            "|    40|   vdwO0k1|2016-06-13 07:01:03|9999-12-31 23:59:59|0.706832959169|           1|\n",
            "+------+----------+-------------------+-------------------+--------------+------------+\n",
            "only showing top 5 rows\n",
            "\n"
          ]
        }
      ]
    },
    {
      "cell_type": "code",
      "source": [
        "renamed_buy_df = buy_df.withColumnRenamed(\"team\",\"teamId\")"
      ],
      "metadata": {
        "id": "r4r4rx4DpDHt"
      },
      "execution_count": null,
      "outputs": []
    },
    {
      "cell_type": "code",
      "source": [
        "renamed_buy_df.show(5)"
      ],
      "metadata": {
        "id": "i1-ujBYxpa3P",
        "outputId": "5b902740-64c1-42d3-90d3-4702a0cce665",
        "colab": {
          "base_uri": "https://localhost:8080/"
        }
      },
      "execution_count": null,
      "outputs": [
        {
          "output_type": "stream",
          "name": "stdout",
          "text": [
            "+-------------------+----+-------------+------+------+-----+-----+\n",
            "|          timestamp|txId|userSessionId|teamId|userId|buyId|price|\n",
            "+-------------------+----+-------------+------+------+-----+-----+\n",
            "|2016-05-26 15:36:54|6004|         5820|     9|  1300|    2|  3.0|\n",
            "|2016-05-26 15:36:54|6005|         5775|    35|   868|    4| 10.0|\n",
            "|2016-05-26 15:36:54|6006|         5679|    97|   819|    5| 20.0|\n",
            "|2016-05-26 16:36:54|6067|         5665|    18|   121|    2|  3.0|\n",
            "|2016-05-26 17:06:54|6093|         5709|    11|  2222|    5| 20.0|\n",
            "+-------------------+----+-------------+------+------+-----+-----+\n",
            "only showing top 5 rows\n",
            "\n"
          ]
        }
      ]
    },
    {
      "cell_type": "code",
      "source": [
        "updatedteam_buy_df = team_df.join(renamed_buy_df,team_df.teamId == renamed_buy_df.teamId, how = \"outer\")\n",
        "updatedteam_buy_df.show(5)"
      ],
      "metadata": {
        "id": "3bsO-CM4pjCK",
        "colab": {
          "base_uri": "https://localhost:8080/"
        },
        "outputId": "77e1fe72-2b3a-48d9-ad32-6b84f6574040"
      },
      "execution_count": null,
      "outputs": [
        {
          "output_type": "stream",
          "name": "stdout",
          "text": [
            "+------+-----------+-------------------+-------------------+--------------+------------+-------------------+-----+-------------+------+------+-----+-----+\n",
            "|teamId|       name|   teamCreationTime|        teamEndTime|      strength|currentLevel|          timestamp| txId|userSessionId|teamId|userId|buyId|price|\n",
            "+------+-----------+-------------------+-------------------+--------------+------------+-------------------+-----+-------------+------+------+-----+-----+\n",
            "|     0|     8JqHAD|2016-06-14 19:32:57|9999-12-31 23:59:59|0.174879834235|           1|               null| null|         null|  null|  null| null| null|\n",
            "|     1| Rlwjub4jqE|2016-06-13 14:20:52|9999-12-31 23:59:59|0.105268242757|           1|               null| null|         null|  null|  null| null| null|\n",
            "|     2|ef8SlZSnjqq|2016-06-14 07:23:05|9999-12-31 23:59:59|0.146636553695|           1|2016-05-26 20:36:54| 6292|         5921|     2|   518|    0|  1.0|\n",
            "|     2|ef8SlZSnjqq|2016-06-14 07:23:05|9999-12-31 23:59:59|0.146636553695|           1|2016-05-29 06:06:54| 9270|         7512|     2|   624|    5| 20.0|\n",
            "|     2|ef8SlZSnjqq|2016-06-14 07:23:05|9999-12-31 23:59:59|0.146636553695|           1|2016-05-29 20:06:54|10287|         9673|     2|   624|    5| 20.0|\n",
            "+------+-----------+-------------------+-------------------+--------------+------------+-------------------+-----+-------------+------+------+-----+-----+\n",
            "only showing top 5 rows\n",
            "\n"
          ]
        }
      ]
    },
    {
      "cell_type": "code",
      "source": [
        "team_spend_strength_df = updatedteam_buy_df.groupBy('strength').sum('price').na.drop()\n",
        "team_spend_strength_df.show()"
      ],
      "metadata": {
        "id": "cYgGowYwqQoq",
        "outputId": "299456bd-e0d2-4900-e536-05a3113ad920",
        "colab": {
          "base_uri": "https://localhost:8080/"
        }
      },
      "execution_count": null,
      "outputs": [
        {
          "output_type": "stream",
          "name": "stdout",
          "text": [
            "+---------------+----------+\n",
            "|       strength|sum(price)|\n",
            "+---------------+----------+\n",
            "| 0.893053922676|     392.0|\n",
            "| 0.885469892018|     421.0|\n",
            "| 0.352470037946|     534.0|\n",
            "| 0.952175553216|     513.0|\n",
            "| 0.765548732176|     450.0|\n",
            "| 0.642122051019|     321.0|\n",
            "| 0.701621474289|      89.0|\n",
            "| 0.276723269022|     141.0|\n",
            "| 0.940340988152|     160.0|\n",
            "| 0.894528574547|     328.0|\n",
            "| 0.718462485619|     116.0|\n",
            "| 0.141376627543|     880.0|\n",
            "| 0.320057042827|     358.0|\n",
            "|   0.6086527331|     447.0|\n",
            "| 0.146636553695|     178.0|\n",
            "| 0.575757330183|     260.0|\n",
            "| 0.406089913506|     693.0|\n",
            "| 0.237000437615|     677.0|\n",
            "|  0.34348462196|     647.0|\n",
            "|0.0859900712952|     328.0|\n",
            "+---------------+----------+\n",
            "only showing top 20 rows\n",
            "\n"
          ]
        }
      ]
    },
    {
      "cell_type": "code",
      "source": [
        "len(team_spend_strength_df.toPandas())"
      ],
      "metadata": {
        "id": "HgKCzSifvOHu",
        "outputId": "5d017829-269b-49e0-8157-a00d827cd741",
        "colab": {
          "base_uri": "https://localhost:8080/"
        }
      },
      "execution_count": null,
      "outputs": [
        {
          "output_type": "execute_result",
          "data": {
            "text/plain": [
              "44"
            ]
          },
          "metadata": {},
          "execution_count": 98
        }
      ]
    },
    {
      "cell_type": "code",
      "source": [
        "import numpy as np\n",
        "import matplotlib.pyplot as plt\n",
        "import scipy.stats\n",
        "\n",
        "\n",
        "df = team_spend_strength_df.toPandas()\n",
        "N = len(df)\n",
        "x = df['sum(price)']\n",
        "y = df['strength']\n",
        "\n",
        "#Compute Correlation\n",
        "r,p = scipy.stats.spearmanr(x, y)\n",
        "print(r,p)\n",
        "\n",
        "colors = np.random.rand(N)\n",
        "area = (30 * np.random.rand(N))**2  # 0 to 15 point radii\n",
        "\n",
        "plt.scatter(x, y,s=area, c=colors, alpha=0.5)\n",
        "plt.xlabel(\"Spend\")\n",
        "plt.ylabel(\"Strength\")\n",
        "plt.title(\"Scatter Plot for Team Total Spend vs Strength\")\n",
        "plt.show()"
      ],
      "metadata": {
        "id": "1CFzOv1LtXO1",
        "outputId": "6ae65616-00bd-49cd-f72b-280aa9e1ba5b",
        "colab": {
          "base_uri": "https://localhost:8080/",
          "height": 490
        }
      },
      "execution_count": null,
      "outputs": [
        {
          "output_type": "stream",
          "name": "stdout",
          "text": [
            "-0.15892592893088459 0.302815721846493\n"
          ]
        },
        {
          "output_type": "display_data",
          "data": {
            "text/plain": [
              "<Figure size 640x480 with 1 Axes>"
            ],
            "image/png": "[encoded data removed]"
          },
          "metadata": {}
        }
      ]
    },
    {
      "cell_type": "markdown",
      "source": [
        "## 5. Continent with highest spending"
      ],
      "metadata": {
        "id": "khOXRf065pKM"
      }
    },
    {
      "cell_type": "code",
      "source": [
        "users_df = spark.read.csv(\"/content/users.csv\", header=True, inferSchema=True)\n",
        "users_df.show()"
      ],
      "metadata": {
        "colab": {
          "base_uri": "https://localhost:8080/"
        },
        "id": "4vtTFUsF9Z-P",
        "outputId": "22c1bbe5-98e7-4647-efc2-70b183ef1f9e"
      },
      "execution_count": null,
      "outputs": [
        {
          "output_type": "stream",
          "name": "stdout",
          "text": [
            "+-------------------+------+-----------+----------+----------+-------+\n",
            "|          timestamp|userId|       nick|   twitter|       dob|country|\n",
            "+-------------------+------+-----------+----------+----------+-------+\n",
            "|2012-06-19 14:53:41|   442|   pcjIOBKW|  @SZhyOHv|1994-07-20|     BA|\n",
            "|2012-06-19 19:29:01|   949|    vAOfUkf|    @nkkNo|1971-04-22|     HU|\n",
            "|2012-06-20 19:34:59|  1654|     qOOXSQ|    @SwOlw|1970-04-19|     IS|\n",
            "|2012-06-21 01:18:29|  1586|    px4gW51|  @IrCHTnE|1965-11-23|     AM|\n",
            "|2012-06-21 15:35:00|   599|9gkfwRC73Uc|   @VJj0Az|1994-08-23|     CC|\n",
            "|2012-06-22 11:36:19|   952| BRbb3VOTti|   @b4OK6K|1986-09-11|     MH|\n",
            "|2012-06-23 08:11:18|  1056|    fGCIAtI| @IgDsdWdU|1991-11-28|     SM|\n",
            "|2012-06-23 10:54:19|    91|tpDfgi3S0N9|   @LvTHGO|1977-07-03|     BZ|\n",
            "|2012-06-23 14:59:26|   809| LkNRpRW6Ez|@ROrRkXwdh|1951-09-25|     PF|\n",
            "|2012-06-23 17:40:35|    75|     fNWewX|   @OXqLyv|1979-11-12|     JO|\n",
            "|2012-06-23 17:57:05|  2224|   rvXvUU9J|  @YexGCPm|1996-08-27|     GW|\n",
            "|2012-06-24 05:29:24|   361|    Pk8oT6o|    @9YksF|1980-10-18|     CK|\n",
            "|2012-06-24 23:33:59|   584|TBRJ3YueQCa|    @QsYLb|1957-02-17|     MD|\n",
            "|2012-06-25 01:48:50|   295|zBxoWozeDlB| @An4tm5np|1977-03-02|     HK|\n",
            "|2012-06-25 02:01:25|  1493|     GnvF8P|  @KnN5TLT|1979-10-05|     QA|\n",
            "|2012-06-25 06:38:10|  1605|  m7eHxdgoz| @tcfAzJ3m|1981-10-23|     ZA|\n",
            "|2012-06-25 15:04:21|   848|  ZWIRmprJd| @qrP2pQcE|1989-06-20|     SE|\n",
            "|2012-06-25 16:53:28|   962|  19aggoZfQ|  @u5Smf32|1949-08-12|     MM|\n",
            "|2012-06-26 15:12:33|  2034| olBz6o3Ulg| @lxLPvLKK|1983-12-04|     FO|\n",
            "|2012-06-26 22:42:21|   379|  R1Mk1AVrv|    @UGHdE|1980-05-03|     DJ|\n",
            "+-------------------+------+-----------+----------+----------+-------+\n",
            "only showing top 20 rows\n",
            "\n"
          ]
        }
      ]
    },
    {
      "cell_type": "code",
      "source": [
        "updated_team_buy_user_df = updatedteam_buy_df.join(users_df,updatedteam_buy_df.userId == users_df.userId, how = \"outer\")\n",
        "updated_team_buy_user_df.show(5)"
      ],
      "metadata": {
        "colab": {
          "base_uri": "https://localhost:8080/"
        },
        "id": "P7ntMLUmO_b4",
        "outputId": "78c83247-6126-4e36-8873-8a751e58b196"
      },
      "execution_count": null,
      "outputs": [
        {
          "output_type": "stream",
          "name": "stdout",
          "text": [
            "+------+----------+-------------------+-------------------+--------------+------------+---------+----+-------------+------+------+-----+-----+---------+------+----+-------+----+-------+\n",
            "|teamId|      name|   teamCreationTime|        teamEndTime|      strength|currentLevel|timestamp|txId|userSessionId|teamId|userId|buyId|price|timestamp|userId|nick|twitter| dob|country|\n",
            "+------+----------+-------------------+-------------------+--------------+------------+---------+----+-------------+------+------+-----+-----+---------+------+----+-------+----+-------+\n",
            "|     0|    8JqHAD|2016-06-14 19:32:57|9999-12-31 23:59:59|0.174879834235|           1|     null|null|         null|  null|  null| null| null|     null|  null|null|   null|null|   null|\n",
            "|     1|Rlwjub4jqE|2016-06-13 14:20:52|9999-12-31 23:59:59|0.105268242757|           1|     null|null|         null|  null|  null| null| null|     null|  null|null|   null|null|   null|\n",
            "|     3|    6nX33h|2016-06-14 07:15:48|9999-12-31 23:59:59|0.575897759388|           1|     null|null|         null|  null|  null| null| null|     null|  null|null|   null|null|   null|\n",
            "|     4|  Hnr17oYj|2016-06-15 02:58:28|9999-12-31 23:59:59|0.134574686618|           1|     null|null|         null|  null|  null| null| null|     null|  null|null|   null|null|   null|\n",
            "|     5|    zbkogV|2016-06-14 10:50:29|9999-12-31 23:59:59|0.275224179681|           1|     null|null|         null|  null|  null| null| null|     null|  null|null|   null|null|   null|\n",
            "+------+----------+-------------------+-------------------+--------------+------------+---------+----+-------------+------+------+-----+-----+---------+------+----+-------+----+-------+\n",
            "only showing top 5 rows\n",
            "\n"
          ]
        }
      ]
    },
    {
      "cell_type": "code",
      "source": [
        "!pip install pycountry_convert\n"
      ],
      "metadata": {
        "id": "hFsqFTbeM9SL"
      },
      "execution_count": null,
      "outputs": []
    },
    {
      "cell_type": "code",
      "source": [
        "def country_to_continent(country_name):\n",
        "  try:\n",
        "    country_continent_code = pc.country_alpha2_to_continent_code(country_name)\n",
        "    country_continent_name = pc.convert_continent_code_to_continent_name(country_continent_code)\n",
        "    return country_continent_name\n",
        "  except:\n",
        "    return \"None\""
      ],
      "metadata": {
        "id": "3nQBfAQ2OC7S"
      },
      "execution_count": null,
      "outputs": []
    },
    {
      "cell_type": "code",
      "source": [
        "import pycountry_convert as pc\n",
        "\n",
        "#team_user_buying_df = team_user_buying_df.withColumn(\"continent\", udf_country_to_continent(f.col(\"country\") ))\n",
        "\n",
        "updated_team_buy_user_df.withColumn(\"Continent\",country_to_continent(updated_team_buy_user_df.col(\"country\")))\n",
        "\n",
        "updated_team_buy_user_df.show(8)"
      ],
      "metadata": {
        "id": "wU2hKKSXHtg3"
      },
      "execution_count": null,
      "outputs": []
    },
    {
      "cell_type": "markdown",
      "source": [
        "## 5. Top 10 Country With Highest Spending"
      ],
      "metadata": {
        "id": "5icit_c_QS1l"
      }
    },
    {
      "cell_type": "code",
      "source": [
        "updated_team_buy_user_df.show(5)\n"
      ],
      "metadata": {
        "colab": {
          "base_uri": "https://localhost:8080/"
        },
        "id": "Pq7TB1wzJbWF",
        "outputId": "43388023-3f4b-4ab7-add4-7426e202795c"
      },
      "execution_count": null,
      "outputs": [
        {
          "output_type": "stream",
          "name": "stdout",
          "text": [
            "+------+----------+-------------------+-------------------+--------------+------------+---------+----+-------------+------+------+-----+-----+---------+------+----+-------+----+-------+\n",
            "|teamId|      name|   teamCreationTime|        teamEndTime|      strength|currentLevel|timestamp|txId|userSessionId|teamId|userId|buyId|price|timestamp|userId|nick|twitter| dob|country|\n",
            "+------+----------+-------------------+-------------------+--------------+------------+---------+----+-------------+------+------+-----+-----+---------+------+----+-------+----+-------+\n",
            "|     0|    8JqHAD|2016-06-14 19:32:57|9999-12-31 23:59:59|0.174879834235|           1|     null|null|         null|  null|  null| null| null|     null|  null|null|   null|null|   null|\n",
            "|     1|Rlwjub4jqE|2016-06-13 14:20:52|9999-12-31 23:59:59|0.105268242757|           1|     null|null|         null|  null|  null| null| null|     null|  null|null|   null|null|   null|\n",
            "|     3|    6nX33h|2016-06-14 07:15:48|9999-12-31 23:59:59|0.575897759388|           1|     null|null|         null|  null|  null| null| null|     null|  null|null|   null|null|   null|\n",
            "|     4|  Hnr17oYj|2016-06-15 02:58:28|9999-12-31 23:59:59|0.134574686618|           1|     null|null|         null|  null|  null| null| null|     null|  null|null|   null|null|   null|\n",
            "|     5|    zbkogV|2016-06-14 10:50:29|9999-12-31 23:59:59|0.275224179681|           1|     null|null|         null|  null|  null| null| null|     null|  null|null|   null|null|   null|\n",
            "+------+----------+-------------------+-------------------+--------------+------------+---------+----+-------------+------+------+-----+-----+---------+------+----+-------+----+-------+\n",
            "only showing top 5 rows\n",
            "\n"
          ]
        }
      ]
    },
    {
      "cell_type": "code",
      "source": [
        "from pyspark.sql.functions import desc\n",
        "\n",
        "country_spend_df = updated_team_buy_user_df.groupBy('country').sum('price').orderBy(desc(\"sum(price)\")).limit(10)\n",
        "country_spend_df.show()"
      ],
      "metadata": {
        "colab": {
          "base_uri": "https://localhost:8080/"
        },
        "id": "yNOAQ68XQeE3",
        "outputId": "d0d75788-beb1-4fcf-e492-74428c192d09"
      },
      "execution_count": null,
      "outputs": [
        {
          "output_type": "stream",
          "name": "stdout",
          "text": [
            "+-------+----------+\n",
            "|country|sum(price)|\n",
            "+-------+----------+\n",
            "|     GD|     342.0|\n",
            "|     IQ|     328.0|\n",
            "|     PW|     324.0|\n",
            "|     KY|     320.0|\n",
            "|     BF|     313.0|\n",
            "|     AO|     298.0|\n",
            "|     AF|     296.0|\n",
            "|     GF|     276.0|\n",
            "|     VA|     274.0|\n",
            "|     GU|     253.0|\n",
            "+-------+----------+\n",
            "\n"
          ]
        }
      ]
    },
    {
      "cell_type": "code",
      "source": [
        "import matplotlib.pyplot as plt\n",
        "import random\n",
        "\n",
        "df = country_spend_df.toPandas()\n",
        "\n",
        "n = df['country'].unique().__len__()+1\n",
        "all_colors = list(plt.cm.colors.cnames.keys())\n",
        "random.seed(100)\n",
        "c = random.choices(all_colors, k=n)\n",
        "\n",
        "# Plot Bars\n",
        "plt.figure(figsize=(16,10), dpi= 80)\n",
        "plt.bar(df['country'], df['sum(price)'], color=c, width=.5)\n",
        "for i, val in enumerate(df['sum(price)'].values):\n",
        "    plt.text(i, val, float(val), horizontalalignment='center', verticalalignment='bottom', fontdict={'fontweight':500, 'size':12})\n",
        "\n",
        "plt.gca().set_xticklabels(df['country'], rotation=60, horizontalalignment= 'right')\n",
        "plt.title(\"Top 10 Countries with High Spending Players\", fontsize=22)\n",
        "plt.ylabel('Spend')\n",
        "plt.xlabel('Country')\n",
        "plt.show()\n"
      ],
      "metadata": {
        "colab": {
          "base_uri": "https://localhost:8080/",
          "height": 680
        },
        "id": "SQr_BGrvUDo2",
        "outputId": "7442ecbb-7782-4a95-81ff-d72abaff354b"
      },
      "execution_count": null,
      "outputs": [
        {
          "output_type": "stream",
          "name": "stderr",
          "text": [
            "<ipython-input-74-567630087a8e>:17: UserWarning: FixedFormatter should only be used together with FixedLocator\n",
            "  plt.gca().set_xticklabels(df['country'], rotation=60, horizontalalignment= 'right')\n"
          ]
        },
        {
          "output_type": "display_data",
          "data": {
            "text/plain": [
              "<Figure size 1280x800 with 1 Axes>"
            ],
            "image/png": "[encoded data removed]"
          },
          "metadata": {}
        }
      ]
    },
    {
      "cell_type": "markdown",
      "source": [
        "## 6. Highest Revenue giving product"
      ],
      "metadata": {
        "id": "avgrfndx5yZZ"
      }
    },
    {
      "cell_type": "code",
      "source": [
        "buy_df = spark.read.csv(\"/content/buy-clicks.csv\", header=True, inferSchema=True)"
      ],
      "metadata": {
        "id": "wyjv1uM4WBGk"
      },
      "execution_count": null,
      "outputs": []
    },
    {
      "cell_type": "code",
      "source": [
        "buy_df.show()"
      ],
      "metadata": {
        "colab": {
          "base_uri": "https://localhost:8080/"
        },
        "id": "tyLunt69WXcj",
        "outputId": "fd4fac28-0b91-4a42-eb3d-563aaff36cf2"
      },
      "execution_count": null,
      "outputs": [
        {
          "output_type": "stream",
          "name": "stdout",
          "text": [
            "+-------------------+----+-------------+----+------+-----+-----+\n",
            "|          timestamp|txId|userSessionId|team|userId|buyId|price|\n",
            "+-------------------+----+-------------+----+------+-----+-----+\n",
            "|2016-05-26 15:36:54|6004|         5820|   9|  1300|    2|  3.0|\n",
            "|2016-05-26 15:36:54|6005|         5775|  35|   868|    4| 10.0|\n",
            "|2016-05-26 15:36:54|6006|         5679|  97|   819|    5| 20.0|\n",
            "|2016-05-26 16:36:54|6067|         5665|  18|   121|    2|  3.0|\n",
            "|2016-05-26 17:06:54|6093|         5709|  11|  2222|    5| 20.0|\n",
            "|2016-05-26 17:06:54|6094|         5798|  77|  1304|    5| 20.0|\n",
            "|2016-05-26 18:06:54|6155|         5920|   9|  1027|    5| 20.0|\n",
            "|2016-05-26 18:06:54|6156|         5697|  35|  2199|    2|  3.0|\n",
            "|2016-05-26 18:36:54|6183|         5893|  64|  1544|    5| 20.0|\n",
            "|2016-05-26 18:36:54|6184|         5697|  35|  2199|    1|  2.0|\n",
            "|2016-05-26 19:36:54|6243|         5659|  13|  1623|    4| 10.0|\n",
            "|2016-05-26 19:36:54|6244|         5920|   9|  1027|    3|  5.0|\n",
            "|2016-05-26 20:06:54|6269|         5785|  27|  1065|    5| 20.0|\n",
            "|2016-05-26 20:06:54|6270|         5661|  63|    83|    3|  5.0|\n",
            "|2016-05-26 20:06:54|6271|         5706|   9|  1652|    0|  1.0|\n",
            "|2016-05-26 20:36:54|6292|         5921|   2|   518|    0|  1.0|\n",
            "|2016-05-26 21:06:54|6327|         5860|  57|  2221|    5| 20.0|\n",
            "|2016-05-26 22:06:54|6394|         6088|  32|  1815|    2|  3.0|\n",
            "|2016-05-26 22:06:54|6395|         5880|  35|  2146|    1|  2.0|\n",
            "|2016-05-26 22:36:54|6411|         6230|  77|  1457|    0|  1.0|\n",
            "+-------------------+----+-------------+----+------+-----+-----+\n",
            "only showing top 20 rows\n",
            "\n"
          ]
        }
      ]
    },
    {
      "cell_type": "code",
      "source": [
        "from pyspark.sql.functions import desc\n",
        "\n",
        "product_spend_df = buy_df.groupBy('buyId').sum('price')\n",
        "product_spend_df.show()"
      ],
      "metadata": {
        "colab": {
          "base_uri": "https://localhost:8080/"
        },
        "id": "nlKorPrvWZw9",
        "outputId": "5488f4f7-ffff-4b5f-910b-ed8c2c6810d1"
      },
      "execution_count": null,
      "outputs": [
        {
          "output_type": "stream",
          "name": "stdout",
          "text": [
            "+-----+----------+\n",
            "|buyId|sum(price)|\n",
            "+-----+----------+\n",
            "|    1|     538.0|\n",
            "|    3|    1685.0|\n",
            "|    5|   12200.0|\n",
            "|    4|    4250.0|\n",
            "|    2|    2142.0|\n",
            "|    0|     592.0|\n",
            "+-----+----------+\n",
            "\n"
          ]
        }
      ]
    },
    {
      "cell_type": "code",
      "source": [
        "!pip install squarify\n"
      ],
      "metadata": {
        "colab": {
          "base_uri": "https://localhost:8080/"
        },
        "id": "QCFaKgT2bZGK",
        "outputId": "c974026a-36ca-467e-cf42-10d53a4be21a"
      },
      "execution_count": null,
      "outputs": [
        {
          "output_type": "stream",
          "name": "stdout",
          "text": [
            "Looking in indexes: https://pypi.org/simple, https://us-python.pkg.dev/colab-wheels/public/simple/\n",
            "Collecting squarify\n",
            "  Downloading squarify-0.4.3-py3-none-any.whl (4.3 kB)\n",
            "Installing collected packages: squarify\n",
            "Successfully installed squarify-0.4.3\n"
          ]
        }
      ]
    },
    {
      "cell_type": "code",
      "source": [
        "import squarify "
      ],
      "metadata": {
        "id": "hNdqC0zpbfwy"
      },
      "execution_count": null,
      "outputs": []
    },
    {
      "cell_type": "code",
      "source": [
        "plt.figure(figsize=(15,5))\n",
        "\n",
        "df = product_spend_df.toPandas()\n",
        "\n",
        "# Sample data\n",
        "values = df['sum(price)']\n",
        "labels = ['1 \\n 538', '3 \\n 1685', '5 \\n 12200', '4 \\n 4250', '2 \\n 2142', '0 \\n 592']\n",
        "\n",
        "colors = ['#91DCEA', '#64CDCC', '#5FBB68',\n",
        "          '#F9D23C', '#F9A729', '#FD6F30']\n",
        "# Treemap\n",
        "squarify.plot(sizes = values, label = labels,\n",
        "              color = colors, alpha = 0.7)\n",
        "\n",
        "plt.title('Highly Sold Product')\n",
        "\n",
        "# Remove the axis:\n",
        "plt.axis(\"off\")\n",
        "\n",
        "# plt.show() "
      ],
      "metadata": {
        "colab": {
          "base_uri": "https://localhost:8080/",
          "height": 364
        },
        "id": "ZDDax7t_ckT8",
        "outputId": "777d8727-2f4c-4719-c603-2d4dd2a4ccba"
      },
      "execution_count": null,
      "outputs": [
        {
          "output_type": "execute_result",
          "data": {
            "text/plain": [
              "(0.0, 100.0, 0.0, 100.0)"
            ]
          },
          "metadata": {},
          "execution_count": 100
        },
        {
          "output_type": "display_data",
          "data": {
            "text/plain": [
              "<Figure size 1500x500 with 1 Axes>"
            ],
            "image/png": "[encoded data removed]"
          },
          "metadata": {}
        }
      ]
    },
    {
      "cell_type": "markdown",
      "source": [
        "## 7. Number of times each item is purchased"
      ],
      "metadata": {
        "id": "IBMpUoub5-jk"
      }
    },
    {
      "cell_type": "code",
      "source": [
        "\n",
        "buy_df.show(5)"
      ],
      "metadata": {
        "colab": {
          "base_uri": "https://localhost:8080/"
        },
        "id": "BLs2oddSs3zl",
        "outputId": "67af2c51-92a3-4ff1-9a78-18c4a574701f"
      },
      "execution_count": null,
      "outputs": [
        {
          "output_type": "stream",
          "name": "stdout",
          "text": [
            "+-------------------+----+-------------+----+------+-----+-----+\n",
            "|          timestamp|txId|userSessionId|team|userId|buyId|price|\n",
            "+-------------------+----+-------------+----+------+-----+-----+\n",
            "|2016-05-26 15:36:54|6004|         5820|   9|  1300|    2|  3.0|\n",
            "|2016-05-26 15:36:54|6005|         5775|  35|   868|    4| 10.0|\n",
            "|2016-05-26 15:36:54|6006|         5679|  97|   819|    5| 20.0|\n",
            "|2016-05-26 16:36:54|6067|         5665|  18|   121|    2|  3.0|\n",
            "|2016-05-26 17:06:54|6093|         5709|  11|  2222|    5| 20.0|\n",
            "+-------------------+----+-------------+----+------+-----+-----+\n",
            "only showing top 5 rows\n",
            "\n"
          ]
        }
      ]
    },
    {
      "cell_type": "code",
      "source": [
        "product_count_df = buy_df.groupBy('buyId').count()\n",
        "product_count_df.show()"
      ],
      "metadata": {
        "colab": {
          "base_uri": "https://localhost:8080/"
        },
        "id": "bByCEpnAtn-K",
        "outputId": "05133939-abbe-4470-9524-0548f7be54bd"
      },
      "execution_count": null,
      "outputs": [
        {
          "output_type": "stream",
          "name": "stdout",
          "text": [
            "+-----+-----+\n",
            "|buyId|count|\n",
            "+-----+-----+\n",
            "|    1|  269|\n",
            "|    3|  337|\n",
            "|    5|  610|\n",
            "|    4|  425|\n",
            "|    2|  714|\n",
            "|    0|  592|\n",
            "+-----+-----+\n",
            "\n"
          ]
        }
      ]
    },
    {
      "cell_type": "code",
      "source": [
        "# libraries\n",
        "from pandas import *\n",
        "import matplotlib.pyplot as plt\n",
        "import numpy as np\n",
        "\n",
        "data = product_count_df.toPandas()\n",
        "\n",
        "# creating an empty chart\n",
        "fig, axes = plt.subplots()\n",
        "\n",
        "line_colors = ['blue', 'cyan', 'green', 'red',\n",
        "               'skyblue', 'brown', 'yellow',\n",
        "               'black', 'grey', 'orange', 'maroon',\n",
        "               'lightgreen']\n",
        " \n",
        "# plotting using plt.stem\n",
        "axes.hlines(data['buyId'], xmin=0,\n",
        "            xmax=data['count'], colors=line_colors)\n",
        "  \n",
        "# drawing the markers (circle)\n",
        "axes.plot(data['count'], data['buyId'], \"o\")\n",
        "axes.set_xlim(0)\n",
        "  \n",
        "# formatting and details\n",
        "plt.xlabel('Count')\n",
        "plt.ylabel('BuyId')\n",
        "plt.title('Number of times each item is purchased')\n",
        "plt.yticks(data['buyId'])"
      ],
      "metadata": {
        "colab": {
          "base_uri": "https://localhost:8080/",
          "height": 676
        },
        "id": "dPx0DpBfuFfy",
        "outputId": "485e0f81-42fb-4534-bde6-3ca03f0e8fb7"
      },
      "execution_count": null,
      "outputs": [
        {
          "output_type": "execute_result",
          "data": {
            "text/plain": [
              "([<matplotlib.axis.YTick at 0x7f805479c070>,\n",
              "  <matplotlib.axis.YTick at 0x7f805472df60>,\n",
              "  <matplotlib.axis.YTick at 0x7f80552f6ad0>,\n",
              "  <matplotlib.axis.YTick at 0x7f805472d2d0>,\n",
              "  <matplotlib.axis.YTick at 0x7f80547486a0>,\n",
              "  <matplotlib.axis.YTick at 0x7f80547488e0>],\n",
              " [Text(0, 1, '1'),\n",
              "  Text(0, 3, '3'),\n",
              "  Text(0, 5, '5'),\n",
              "  Text(0, 4, '4'),\n",
              "  Text(0, 2, '2'),\n",
              "  Text(0, 0, '0')])"
            ]
          },
          "metadata": {},
          "execution_count": 207
        },
        {
          "output_type": "display_data",
          "data": {
            "text/plain": [
              "<Figure size 640x480 with 1 Axes>"
            ],
            "image/png": "[encoded data removed]"
          },
          "metadata": {}
        }
      ]
    },
    {
      "cell_type": "markdown",
      "source": [
        "## 9. Amount spend by top 10 users"
      ],
      "metadata": {
        "id": "1oZzR2vz1dMy"
      }
    },
    {
      "cell_type": "code",
      "source": [
        "users_df.show(5)"
      ],
      "metadata": {
        "colab": {
          "base_uri": "https://localhost:8080/"
        },
        "id": "glFaHb-04awb",
        "outputId": "cadd2a89-eb93-4cc7-85d8-9b3212e79433"
      },
      "execution_count": null,
      "outputs": [
        {
          "output_type": "stream",
          "name": "stdout",
          "text": [
            "+-------------------+------+-----------+--------+----------+-------+\n",
            "|          timestamp|userId|       nick| twitter|       dob|country|\n",
            "+-------------------+------+-----------+--------+----------+-------+\n",
            "|2012-06-19 14:53:41|   442|   pcjIOBKW|@SZhyOHv|1994-07-20|     BA|\n",
            "|2012-06-19 19:29:01|   949|    vAOfUkf|  @nkkNo|1971-04-22|     HU|\n",
            "|2012-06-20 19:34:59|  1654|     qOOXSQ|  @SwOlw|1970-04-19|     IS|\n",
            "|2012-06-21 01:18:29|  1586|    px4gW51|@IrCHTnE|1965-11-23|     AM|\n",
            "|2012-06-21 15:35:00|   599|9gkfwRC73Uc| @VJj0Az|1994-08-23|     CC|\n",
            "+-------------------+------+-----------+--------+----------+-------+\n",
            "only showing top 5 rows\n",
            "\n"
          ]
        }
      ]
    },
    {
      "cell_type": "code",
      "source": [
        "buy_df.show(5)"
      ],
      "metadata": {
        "colab": {
          "base_uri": "https://localhost:8080/"
        },
        "id": "VDzi48_k1q7z",
        "outputId": "502e992b-4245-4587-96ad-f0c935e9980e"
      },
      "execution_count": null,
      "outputs": [
        {
          "output_type": "stream",
          "name": "stdout",
          "text": [
            "+-------------------+----+-------------+----+------+-----+-----+\n",
            "|          timestamp|txId|userSessionId|team|userId|buyId|price|\n",
            "+-------------------+----+-------------+----+------+-----+-----+\n",
            "|2016-05-26 15:36:54|6004|         5820|   9|  1300|    2|  3.0|\n",
            "|2016-05-26 15:36:54|6005|         5775|  35|   868|    4| 10.0|\n",
            "|2016-05-26 15:36:54|6006|         5679|  97|   819|    5| 20.0|\n",
            "|2016-05-26 16:36:54|6067|         5665|  18|   121|    2|  3.0|\n",
            "|2016-05-26 17:06:54|6093|         5709|  11|  2222|    5| 20.0|\n",
            "+-------------------+----+-------------+----+------+-----+-----+\n",
            "only showing top 5 rows\n",
            "\n"
          ]
        }
      ]
    },
    {
      "cell_type": "code",
      "source": [
        "user_buy_df = users_df.join(buy_df,users_df.userId == buy_df.userId, how = \"outer\")\n",
        "user_buy_df.show()"
      ],
      "metadata": {
        "colab": {
          "base_uri": "https://localhost:8080/"
        },
        "id": "8h1sCCiH5QhA",
        "outputId": "fbc9592b-a318-4807-ca8f-1f7bf4efd21c"
      },
      "execution_count": null,
      "outputs": [
        {
          "output_type": "stream",
          "name": "stdout",
          "text": [
            "+-------------------+------+-----------+----------+----------+-------+-------------------+-----+-------------+----+------+-----+-----+\n",
            "|          timestamp|userId|       nick|   twitter|       dob|country|          timestamp| txId|userSessionId|team|userId|buyId|price|\n",
            "+-------------------+------+-----------+----------+----------+-------+-------------------+-----+-------------+----+------+-----+-----+\n",
            "|2015-11-27 16:36:39|     0|  hAV9Ztqdv|@MnFe4LCVQ|1949-01-15|     UZ|               null| null|         null|null|  null| null| null|\n",
            "|2012-12-17 03:25:44|     1|SmMidAFgJzx|   @fFMbCs|1980-12-02|     KM|2016-05-31 06:06:54|11790|        10041|  99|     1|    2|  3.0|\n",
            "|2012-12-17 03:25:44|     1|SmMidAFgJzx|   @fFMbCs|1980-12-02|     KM|2016-05-31 06:36:54|11817|        10041|  99|     1|    2|  3.0|\n",
            "|2012-12-17 03:25:44|     1|SmMidAFgJzx|   @fFMbCs|1980-12-02|     KM|2016-06-01 08:06:54|13447|        12713|  99|     1|    2|  3.0|\n",
            "|2012-12-17 03:25:44|     1|SmMidAFgJzx|   @fFMbCs|1980-12-02|     KM|2016-06-02 04:36:54|14479|        12713|  99|     1|    0|  1.0|\n",
            "|2012-12-17 03:25:44|     1|SmMidAFgJzx|   @fFMbCs|1980-12-02|     KM|2016-06-07 05:06:54|22551|        21014|  99|     1|    2|  3.0|\n",
            "|2012-12-17 03:25:44|     1|SmMidAFgJzx|   @fFMbCs|1980-12-02|     KM|2016-06-09 11:36:54|25852|        21014|  99|     1|    1|  2.0|\n",
            "|2012-12-17 03:25:44|     1|SmMidAFgJzx|   @fFMbCs|1980-12-02|     KM|2016-06-10 03:36:54|27703|        26938|  99|     1|    2|  3.0|\n",
            "|2012-12-17 03:25:44|     1|SmMidAFgJzx|   @fFMbCs|1980-12-02|     KM|2016-06-13 05:36:54|32998|        26938|  99|     1|    0|  1.0|\n",
            "|2012-12-17 03:25:44|     1|SmMidAFgJzx|   @fFMbCs|1980-12-02|     KM|2016-06-14 09:36:54|35904|        34802|  99|     1|    1|  2.0|\n",
            "|2013-03-18 23:19:59|     2|vk2cY6jSeQP|   @7O77pO|1982-02-21|     PE|               null| null|         null|null|  null| null| null|\n",
            "|2015-03-08 21:58:07|     3|  9cJb2cpup|@bs5XuAR1g|1962-11-13|     NR|               null| null|         null|null|  null| null| null|\n",
            "|2015-07-02 06:39:41|     4|     nuubto|    @U0eEX|1950-12-10|     TO|               null| null|         null|null|  null| null| null|\n",
            "|2013-12-25 00:56:05|     5| Ls5CGWqVus| @ygWiqAHR|1997-07-11|     ST|               null| null|         null|null|  null| null| null|\n",
            "|2014-02-09 21:42:29|     6|   7BCMZOTj|    @1R4BO|1958-03-02|     NI|               null| null|         null|null|  null| null| null|\n",
            "|2015-10-05 02:34:31|     7|   YXEMpCb2|   @YMzAcB|1948-03-20|     TF|               null| null|         null|null|  null| null| null|\n",
            "|2015-04-10 16:29:21|     8|     Y76Urg|   @qHXWI9|1994-01-15|     GQ|2016-06-10 10:06:54|28140|        27918| 124|     8|    5| 20.0|\n",
            "|2015-04-10 16:29:21|     8|     Y76Urg|   @qHXWI9|1994-01-15|     GQ|2016-06-11 14:06:54|29958|        27918| 124|     8|    4| 10.0|\n",
            "|2015-04-10 16:29:21|     8|     Y76Urg|   @qHXWI9|1994-01-15|     GQ|2016-06-12 23:06:54|32573|        27918| 124|     8|    2|  3.0|\n",
            "|2015-04-10 16:29:21|     8|     Y76Urg|   @qHXWI9|1994-01-15|     GQ|2016-06-15 00:36:54|37156|        33190| 124|     8|    4| 10.0|\n",
            "+-------------------+------+-----------+----------+----------+-------+-------------------+-----+-------------+----+------+-----+-----+\n",
            "only showing top 20 rows\n",
            "\n"
          ]
        }
      ]
    },
    {
      "cell_type": "code",
      "source": [
        "user_spend_df = user_buy_df.groupBy('nick').sum('price').orderBy(desc(\"sum(price)\")).limit(10)\n",
        "user_spend_df.show()"
      ],
      "metadata": {
        "colab": {
          "base_uri": "https://localhost:8080/"
        },
        "id": "faibExuj1uJB",
        "outputId": "c3cc6254-6013-4fb1-f0ae-4a58eb01f954"
      },
      "execution_count": null,
      "outputs": [
        {
          "output_type": "stream",
          "name": "stdout",
          "text": [
            "+-----------+----------+\n",
            "|       nick|sum(price)|\n",
            "+-----------+----------+\n",
            "|    YHxb6JJ|     223.0|\n",
            "|QmA8GoqXpmN|     215.0|\n",
            "|  Xqs8KSkOG|     202.0|\n",
            "|     otRQLo|     200.0|\n",
            "|   BtEYpQcB|     189.0|\n",
            "| RSmlv6AHFU|     183.0|\n",
            "|     dPFkHE|     183.0|\n",
            "| hMaQpxTxv4|     180.0|\n",
            "|     RgaYrK|     172.0|\n",
            "| zknrWp1cio|     172.0|\n",
            "+-----------+----------+\n",
            "\n"
          ]
        }
      ]
    },
    {
      "cell_type": "code",
      "source": [
        "import matplotlib.pyplot as plt\n",
        "\n",
        "df = user_spend_df.toPandas()\n",
        "\n",
        "fig = plt.figure()\n",
        "ax = fig.add_subplot(111)\n",
        "\n",
        "data_x = df['sum(price)']\n",
        "data_y = df['nick']\n",
        "\n",
        "ax.barh(data_y, data_x, color='#888888', alpha=0.25)\n",
        "\n",
        "ax.barh(['YHxb6JJ'], [223], color='#aa3333')\n",
        "\n",
        "plt.title(\"Top Spending Users\")\n",
        "plt.xlabel(\"Spend\")\n",
        "plt.ylabel(\"User Nickname\")\n"
      ],
      "metadata": {
        "colab": {
          "base_uri": "https://localhost:8080/",
          "height": 489
        },
        "id": "pYxcqu8A3c3N",
        "outputId": "d34a4cfc-c0d6-40ca-ab0b-c07182fdb2a3"
      },
      "execution_count": null,
      "outputs": [
        {
          "output_type": "execute_result",
          "data": {
            "text/plain": [
              "Text(0, 0.5, 'User Nickname')"
            ]
          },
          "metadata": {},
          "execution_count": 238
        },
        {
          "output_type": "display_data",
          "data": {
            "text/plain": [
              "<Figure size 640x480 with 1 Axes>"
            ],
            "image/png": "[encoded data removed]"
          },
          "metadata": {}
        }
      ]
    },
    {
      "cell_type": "markdown",
      "source": [
        "## 10. Time series of In-game click ads"
      ],
      "metadata": {
        "id": "xGUGGYQa53tM"
      }
    },
    {
      "cell_type": "code",
      "source": [
        "ad_click_df = spark.read.csv(\"/content/ad-clicks.csv\", header=True, inferSchema=True)\n",
        "ad_click_df.show(5)"
      ],
      "metadata": {
        "id": "_Nnf2s2Zgi-C",
        "colab": {
          "base_uri": "https://localhost:8080/"
        },
        "outputId": "c79e8756-8bbe-45b7-ea0e-fd7bb296c04c"
      },
      "execution_count": null,
      "outputs": [
        {
          "output_type": "stream",
          "name": "stdout",
          "text": [
            "+-------------------+----+-------------+------+------+----+-----------+\n",
            "|          timestamp|txId|userSessionId|teamId|userId|adId| adCategory|\n",
            "+-------------------+----+-------------+------+------+----+-----------+\n",
            "|2016-05-26 15:13:22|5974|         5809|    27|   611|   2|electronics|\n",
            "|2016-05-26 15:17:24|5976|         5705|    18|  1874|  21|     movies|\n",
            "|2016-05-26 15:22:52|5978|         5791|    53|  2139|  25|  computers|\n",
            "|2016-05-26 15:22:57|5973|         5756|    63|   212|  10|    fashion|\n",
            "|2016-05-26 15:22:58|5980|         5920|     9|  1027|  20|   clothing|\n",
            "+-------------------+----+-------------+------+------+----+-----------+\n",
            "only showing top 5 rows\n",
            "\n"
          ]
        }
      ]
    },
    {
      "cell_type": "code",
      "source": [
        "import pyspark.sql.functions as f\n",
        "\n",
        "ad_click_df = ad_click_df.withColumn(\"tstamp\",f.date_format(ad_click_df.timestamp,'yyyy-MM-dd') )\n",
        "ad_click_df = ad_click_df.withColumn(\"hstamp\",f.date_format(ad_click_df.timestamp,'hh:mm:ss') )\n",
        "ad_click_df = ad_click_df.withColumn(\"month\",f.date_format(ad_click_df.timestamp,'yyyy-MM-dd') )\n",
        "ad_click_df = ad_click_df.select(\"month\").groupBy(\"month\").count().orderBy(\"count\")\n",
        "\n",
        "\n"
      ],
      "metadata": {
        "id": "CRB4UoaUhHJ6"
      },
      "execution_count": null,
      "outputs": []
    },
    {
      "cell_type": "code",
      "source": [
        "df = ad_click_df.toPandas()\n",
        "df\n",
        "\n",
        "df.plot.line(x=\"month\", y=\"count\",color='green',linestyle='dashed', xlabel=\"Days\", ylabel=\"Ads clicked\", title=\"Time Series of Ad Clicks per Day\",marker='o', markerfacecolor='yellow', markeredgecolor='red',)"
      ],
      "metadata": {
        "colab": {
          "base_uri": "https://localhost:8080/",
          "height": 489
        },
        "id": "HDjbnnN4jGK5",
        "outputId": "8638333c-4d8a-4500-d897-0e4a9597da2d"
      },
      "execution_count": null,
      "outputs": [
        {
          "output_type": "execute_result",
          "data": {
            "text/plain": [
              "<Axes: title={'center': 'Time Series of Ad Clicks per Day'}, xlabel='Days', ylabel='Ads clicked'>"
            ]
          },
          "metadata": {},
          "execution_count": 180
        },
        {
          "output_type": "display_data",
          "data": {
            "text/plain": [
              "<Figure size 640x480 with 1 Axes>"
            ],
            "image/png": "[encoded data removed]"
          },
          "metadata": {}
        }
      ]
    },
    {
      "cell_type": "markdown",
      "source": [
        "##11. Users who bought items and never bought items"
      ],
      "metadata": {
        "id": "nYZ9EMJL6zHD"
      }
    },
    {
      "cell_type": "code",
      "source": [
        "users_df.show(5)"
      ],
      "metadata": {
        "colab": {
          "base_uri": "https://localhost:8080/"
        },
        "id": "JI2nggw296eG",
        "outputId": "f944ec39-4b86-4755-e669-a9e18b3e4093"
      },
      "execution_count": null,
      "outputs": [
        {
          "output_type": "stream",
          "name": "stdout",
          "text": [
            "+-------------------+------+-----------+--------+----------+-------+\n",
            "|          timestamp|userId|       nick| twitter|       dob|country|\n",
            "+-------------------+------+-----------+--------+----------+-------+\n",
            "|2012-06-19 14:53:41|   442|   pcjIOBKW|@SZhyOHv|1994-07-20|     BA|\n",
            "|2012-06-19 19:29:01|   949|    vAOfUkf|  @nkkNo|1971-04-22|     HU|\n",
            "|2012-06-20 19:34:59|  1654|     qOOXSQ|  @SwOlw|1970-04-19|     IS|\n",
            "|2012-06-21 01:18:29|  1586|    px4gW51|@IrCHTnE|1965-11-23|     AM|\n",
            "|2012-06-21 15:35:00|   599|9gkfwRC73Uc| @VJj0Az|1994-08-23|     CC|\n",
            "+-------------------+------+-----------+--------+----------+-------+\n",
            "only showing top 5 rows\n",
            "\n"
          ]
        }
      ]
    },
    {
      "cell_type": "code",
      "source": [
        "user_count = users_df.distinct().count()\n",
        "user_count"
      ],
      "metadata": {
        "colab": {
          "base_uri": "https://localhost:8080/"
        },
        "id": "MtZbRI779_v9",
        "outputId": "5da65dbc-df41-4a6a-d1e8-1c949857a0b8"
      },
      "execution_count": null,
      "outputs": [
        {
          "output_type": "execute_result",
          "data": {
            "text/plain": [
              "2393"
            ]
          },
          "metadata": {},
          "execution_count": 248
        }
      ]
    },
    {
      "cell_type": "code",
      "source": [
        "buy_df.show(5)"
      ],
      "metadata": {
        "colab": {
          "base_uri": "https://localhost:8080/"
        },
        "id": "qOeSmCPl-x3p",
        "outputId": "86925426-870f-48be-f251-4b2cf22aafcf"
      },
      "execution_count": null,
      "outputs": [
        {
          "output_type": "stream",
          "name": "stdout",
          "text": [
            "+-------------------+----+-------------+----+------+-----+-----+\n",
            "|          timestamp|txId|userSessionId|team|userId|buyId|price|\n",
            "+-------------------+----+-------------+----+------+-----+-----+\n",
            "|2016-05-26 15:36:54|6004|         5820|   9|  1300|    2|  3.0|\n",
            "|2016-05-26 15:36:54|6005|         5775|  35|   868|    4| 10.0|\n",
            "|2016-05-26 15:36:54|6006|         5679|  97|   819|    5| 20.0|\n",
            "|2016-05-26 16:36:54|6067|         5665|  18|   121|    2|  3.0|\n",
            "|2016-05-26 17:06:54|6093|         5709|  11|  2222|    5| 20.0|\n",
            "+-------------------+----+-------------+----+------+-----+-----+\n",
            "only showing top 5 rows\n",
            "\n"
          ]
        }
      ]
    },
    {
      "cell_type": "code",
      "source": [
        "from pyspark.sql.functions import countDistinct\n",
        "buyer_df = buy_df.groupBy(\"buyId\").agg(countDistinct('UserId'))\n",
        "buyer_df.show()"
      ],
      "metadata": {
        "colab": {
          "base_uri": "https://localhost:8080/"
        },
        "id": "IqLeEe1V-2UZ",
        "outputId": "465e562c-af3b-4103-8738-19102cdf8c93"
      },
      "execution_count": null,
      "outputs": [
        {
          "output_type": "stream",
          "name": "stdout",
          "text": [
            "+-----+-------------+\n",
            "|buyId|count(UserId)|\n",
            "+-----+-------------+\n",
            "|    1|          194|\n",
            "|    3|          232|\n",
            "|    5|          248|\n",
            "|    4|          234|\n",
            "|    2|          274|\n",
            "|    0|          198|\n",
            "+-----+-------------+\n",
            "\n"
          ]
        }
      ]
    },
    {
      "cell_type": "code",
      "source": [
        "import plotly.graph_objects as go\n",
        "\n",
        "labels = ['Bought an item','Never bought an item']\n",
        "values = [1380,1013]\n",
        "\n",
        "fig = go.Figure(data=[go.Pie(labels=labels, values=values, pull=[0,0.2])])\n",
        "fig.show()"
      ],
      "metadata": {
        "colab": {
          "base_uri": "https://localhost:8080/",
          "height": 542
        },
        "id": "U6TmQUm9AbRw",
        "outputId": "70c20702-f6a5-4cb6-f171-78449f49e285"
      },
      "execution_count": null,
      "outputs": [
        {
          "output_type": "display_data",
          "data": {
            "text/html": [
              "<html>\n",
              "<head><meta charset=\"utf-8\" /></head>\n",
              "<body>\n",
              "    <div>            <script src=\"https://cdnjs.cloudflare.com/ajax/libs/mathjax/2.7.5/MathJax.js?config=TeX-AMS-MML_SVG\"></script><script type=\"text/javascript\">if (window.MathJax && window.MathJax.Hub && window.MathJax.Hub.Config) {window.MathJax.Hub.Config({SVG: {font: \"STIX-Web\"}});}</script>                <script type=\"text/javascript\">window.PlotlyConfig = {MathJaxConfig: 'local'};</script>\n",
              "        <script src=\"https://cdn.plot.ly/plotly-2.18.2.min.js\"></script>                <div id=\"ba76743c-f575-434f-80f9-f7ebc8041023\" class=\"plotly-graph-div\" style=\"height:525px; width:100%;\"></div>            <script type=\"text/javascript\">                                    window.PLOTLYENV=window.PLOTLYENV || {};                                    if (document.getElementById(\"ba76743c-f575-434f-80f9-f7ebc8041023\")) {                    Plotly.newPlot(                        \"ba76743c-f575-434f-80f9-f7ebc8041023\",                        [{\"labels\":[\"Bought an item\",\"Never bought an item\"],\"pull\":[0,0.2],\"values\":[1380,1013],\"type\":\"pie\"}],                        {\"template\":{\"data\":{\"histogram2dcontour\":[{\"type\":\"histogram2dcontour\",\"colorbar\":{\"outlinewidth\":0,\"ticks\":\"\"},\"colorscale\":[[0.0,\"#0d0887\"],[0.1111111111111111,\"#46039f\"],[0.2222222222222222,\"#7201a8\"],[0.3333333333333333,\"#9c179e\"],[0.4444444444444444,\"#bd3786\"],[0.5555555555555556,\"#d8576b\"],[0.6666666666666666,\"#ed7953\"],[0.7777777777777778,\"#fb9f3a\"],[0.8888888888888888,\"#fdca26\"],[1.0,\"#f0f921\"]]}],\"choropleth\":[{\"type\":\"choropleth\",\"colorbar\":{\"outlinewidth\":0,\"ticks\":\"\"}}],\"histogram2d\":[{\"type\":\"histogram2d\",\"colorbar\":{\"outlinewidth\":0,\"ticks\":\"\"},\"colorscale\":[[0.0,\"#0d0887\"],[0.1111111111111111,\"#46039f\"],[0.2222222222222222,\"#7201a8\"],[0.3333333333333333,\"#9c179e\"],[0.4444444444444444,\"#bd3786\"],[0.5555555555555556,\"#d8576b\"],[0.6666666666666666,\"#ed7953\"],[0.7777777777777778,\"#fb9f3a\"],[0.8888888888888888,\"#fdca26\"],[1.0,\"#f0f921\"]]}],\"heatmap\":[{\"type\":\"heatmap\",\"colorbar\":{\"outlinewidth\":0,\"ticks\":\"\"},\"colorscale\":[[0.0,\"#0d0887\"],[0.1111111111111111,\"#46039f\"],[0.2222222222222222,\"#7201a8\"],[0.3333333333333333,\"#9c179e\"],[0.4444444444444444,\"#bd3786\"],[0.5555555555555556,\"#d8576b\"],[0.6666666666666666,\"#ed7953\"],[0.7777777777777778,\"#fb9f3a\"],[0.8888888888888888,\"#fdca26\"],[1.0,\"#f0f921\"]]}],\"heatmapgl\":[{\"type\":\"heatmapgl\",\"colorbar\":{\"outlinewidth\":0,\"ticks\":\"\"},\"colorscale\":[[0.0,\"#0d0887\"],[0.1111111111111111,\"#46039f\"],[0.2222222222222222,\"#7201a8\"],[0.3333333333333333,\"#9c179e\"],[0.4444444444444444,\"#bd3786\"],[0.5555555555555556,\"#d8576b\"],[0.6666666666666666,\"#ed7953\"],[0.7777777777777778,\"#fb9f3a\"],[0.8888888888888888,\"#fdca26\"],[1.0,\"#f0f921\"]]}],\"contourcarpet\":[{\"type\":\"contourcarpet\",\"colorbar\":{\"outlinewidth\":0,\"ticks\":\"\"}}],\"contour\":[{\"type\":\"contour\",\"colorbar\":{\"outlinewidth\":0,\"ticks\":\"\"},\"colorscale\":[[0.0,\"#0d0887\"],[0.1111111111111111,\"#46039f\"],[0.2222222222222222,\"#7201a8\"],[0.3333333333333333,\"#9c179e\"],[0.4444444444444444,\"#bd3786\"],[0.5555555555555556,\"#d8576b\"],[0.6666666666666666,\"#ed7953\"],[0.7777777777777778,\"#fb9f3a\"],[0.8888888888888888,\"#fdca26\"],[1.0,\"#f0f921\"]]}],\"surface\":[{\"type\":\"surface\",\"colorbar\":{\"outlinewidth\":0,\"ticks\":\"\"},\"colorscale\":[[0.0,\"#0d0887\"],[0.1111111111111111,\"#46039f\"],[0.2222222222222222,\"#7201a8\"],[0.3333333333333333,\"#9c179e\"],[0.4444444444444444,\"#bd3786\"],[0.5555555555555556,\"#d8576b\"],[0.6666666666666666,\"#ed7953\"],[0.7777777777777778,\"#fb9f3a\"],[0.8888888888888888,\"#fdca26\"],[1.0,\"#f0f921\"]]}],\"mesh3d\":[{\"type\":\"mesh3d\",\"colorbar\":{\"outlinewidth\":0,\"ticks\":\"\"}}],\"scatter\":[{\"fillpattern\":{\"fillmode\":\"overlay\",\"size\":10,\"solidity\":0.2},\"type\":\"scatter\"}],\"parcoords\":[{\"type\":\"parcoords\",\"line\":{\"colorbar\":{\"outlinewidth\":0,\"ticks\":\"\"}}}],\"scatterpolargl\":[{\"type\":\"scatterpolargl\",\"marker\":{\"colorbar\":{\"outlinewidth\":0,\"ticks\":\"\"}}}],\"bar\":[{\"error_x\":{\"color\":\"#2a3f5f\"},\"error_y\":{\"color\":\"#2a3f5f\"},\"marker\":{\"line\":{\"color\":\"#E5ECF6\",\"width\":0.5},\"pattern\":{\"fillmode\":\"overlay\",\"size\":10,\"solidity\":0.2}},\"type\":\"bar\"}],\"scattergeo\":[{\"type\":\"scattergeo\",\"marker\":{\"colorbar\":{\"outlinewidth\":0,\"ticks\":\"\"}}}],\"scatterpolar\":[{\"type\":\"scatterpolar\",\"marker\":{\"colorbar\":{\"outlinewidth\":0,\"ticks\":\"\"}}}],\"histogram\":[{\"marker\":{\"pattern\":{\"fillmode\":\"overlay\",\"size\":10,\"solidity\":0.2}},\"type\":\"histogram\"}],\"scattergl\":[{\"type\":\"scattergl\",\"marker\":{\"colorbar\":{\"outlinewidth\":0,\"ticks\":\"\"}}}],\"scatter3d\":[{\"type\":\"scatter3d\",\"line\":{\"colorbar\":{\"outlinewidth\":0,\"ticks\":\"\"}},\"marker\":{\"colorbar\":{\"outlinewidth\":0,\"ticks\":\"\"}}}],\"scattermapbox\":[{\"type\":\"scattermapbox\",\"marker\":{\"colorbar\":{\"outlinewidth\":0,\"ticks\":\"\"}}}],\"scatterternary\":[{\"type\":\"scatterternary\",\"marker\":{\"colorbar\":{\"outlinewidth\":0,\"ticks\":\"\"}}}],\"scattercarpet\":[{\"type\":\"scattercarpet\",\"marker\":{\"colorbar\":{\"outlinewidth\":0,\"ticks\":\"\"}}}],\"carpet\":[{\"aaxis\":{\"endlinecolor\":\"#2a3f5f\",\"gridcolor\":\"white\",\"linecolor\":\"white\",\"minorgridcolor\":\"white\",\"startlinecolor\":\"#2a3f5f\"},\"baxis\":{\"endlinecolor\":\"#2a3f5f\",\"gridcolor\":\"white\",\"linecolor\":\"white\",\"minorgridcolor\":\"white\",\"startlinecolor\":\"#2a3f5f\"},\"type\":\"carpet\"}],\"table\":[{\"cells\":{\"fill\":{\"color\":\"#EBF0F8\"},\"line\":{\"color\":\"white\"}},\"header\":{\"fill\":{\"color\":\"#C8D4E3\"},\"line\":{\"color\":\"white\"}},\"type\":\"table\"}],\"barpolar\":[{\"marker\":{\"line\":{\"color\":\"#E5ECF6\",\"width\":0.5},\"pattern\":{\"fillmode\":\"overlay\",\"size\":10,\"solidity\":0.2}},\"type\":\"barpolar\"}],\"pie\":[{\"automargin\":true,\"type\":\"pie\"}]},\"layout\":{\"autotypenumbers\":\"strict\",\"colorway\":[\"#636efa\",\"#EF553B\",\"#00cc96\",\"#ab63fa\",\"#FFA15A\",\"#19d3f3\",\"#FF6692\",\"#B6E880\",\"#FF97FF\",\"#FECB52\"],\"font\":{\"color\":\"#2a3f5f\"},\"hovermode\":\"closest\",\"hoverlabel\":{\"align\":\"left\"},\"paper_bgcolor\":\"white\",\"plot_bgcolor\":\"#E5ECF6\",\"polar\":{\"bgcolor\":\"#E5ECF6\",\"angularaxis\":{\"gridcolor\":\"white\",\"linecolor\":\"white\",\"ticks\":\"\"},\"radialaxis\":{\"gridcolor\":\"white\",\"linecolor\":\"white\",\"ticks\":\"\"}},\"ternary\":{\"bgcolor\":\"#E5ECF6\",\"aaxis\":{\"gridcolor\":\"white\",\"linecolor\":\"white\",\"ticks\":\"\"},\"baxis\":{\"gridcolor\":\"white\",\"linecolor\":\"white\",\"ticks\":\"\"},\"caxis\":{\"gridcolor\":\"white\",\"linecolor\":\"white\",\"ticks\":\"\"}},\"coloraxis\":{\"colorbar\":{\"outlinewidth\":0,\"ticks\":\"\"}},\"colorscale\":{\"sequential\":[[0.0,\"#0d0887\"],[0.1111111111111111,\"#46039f\"],[0.2222222222222222,\"#7201a8\"],[0.3333333333333333,\"#9c179e\"],[0.4444444444444444,\"#bd3786\"],[0.5555555555555556,\"#d8576b\"],[0.6666666666666666,\"#ed7953\"],[0.7777777777777778,\"#fb9f3a\"],[0.8888888888888888,\"#fdca26\"],[1.0,\"#f0f921\"]],\"sequentialminus\":[[0.0,\"#0d0887\"],[0.1111111111111111,\"#46039f\"],[0.2222222222222222,\"#7201a8\"],[0.3333333333333333,\"#9c179e\"],[0.4444444444444444,\"#bd3786\"],[0.5555555555555556,\"#d8576b\"],[0.6666666666666666,\"#ed7953\"],[0.7777777777777778,\"#fb9f3a\"],[0.8888888888888888,\"#fdca26\"],[1.0,\"#f0f921\"]],\"diverging\":[[0,\"#8e0152\"],[0.1,\"#c51b7d\"],[0.2,\"#de77ae\"],[0.3,\"#f1b6da\"],[0.4,\"#fde0ef\"],[0.5,\"#f7f7f7\"],[0.6,\"#e6f5d0\"],[0.7,\"#b8e186\"],[0.8,\"#7fbc41\"],[0.9,\"#4d9221\"],[1,\"#276419\"]]},\"xaxis\":{\"gridcolor\":\"white\",\"linecolor\":\"white\",\"ticks\":\"\",\"title\":{\"standoff\":15},\"zerolinecolor\":\"white\",\"automargin\":true,\"zerolinewidth\":2},\"yaxis\":{\"gridcolor\":\"white\",\"linecolor\":\"white\",\"ticks\":\"\",\"title\":{\"standoff\":15},\"zerolinecolor\":\"white\",\"automargin\":true,\"zerolinewidth\":2},\"scene\":{\"xaxis\":{\"backgroundcolor\":\"#E5ECF6\",\"gridcolor\":\"white\",\"linecolor\":\"white\",\"showbackground\":true,\"ticks\":\"\",\"zerolinecolor\":\"white\",\"gridwidth\":2},\"yaxis\":{\"backgroundcolor\":\"#E5ECF6\",\"gridcolor\":\"white\",\"linecolor\":\"white\",\"showbackground\":true,\"ticks\":\"\",\"zerolinecolor\":\"white\",\"gridwidth\":2},\"zaxis\":{\"backgroundcolor\":\"#E5ECF6\",\"gridcolor\":\"white\",\"linecolor\":\"white\",\"showbackground\":true,\"ticks\":\"\",\"zerolinecolor\":\"white\",\"gridwidth\":2}},\"shapedefaults\":{\"line\":{\"color\":\"#2a3f5f\"}},\"annotationdefaults\":{\"arrowcolor\":\"#2a3f5f\",\"arrowhead\":0,\"arrowwidth\":1},\"geo\":{\"bgcolor\":\"white\",\"landcolor\":\"#E5ECF6\",\"subunitcolor\":\"white\",\"showland\":true,\"showlakes\":true,\"lakecolor\":\"white\"},\"title\":{\"x\":0.05},\"mapbox\":{\"style\":\"light\"}}}},                        {\"responsive\": true}                    ).then(function(){\n",
              "                            \n",
              "var gd = document.getElementById('ba76743c-f575-434f-80f9-f7ebc8041023');\n",
              "var x = new MutationObserver(function (mutations, observer) {{\n",
              "        var display = window.getComputedStyle(gd).display;\n",
              "        if (!display || display === 'none') {{\n",
              "            console.log([gd, 'removed!']);\n",
              "            Plotly.purge(gd);\n",
              "            observer.disconnect();\n",
              "        }}\n",
              "}});\n",
              "\n",
              "// Listen for the removal of the full notebook cells\n",
              "var notebookContainer = gd.closest('#notebook-container');\n",
              "if (notebookContainer) {{\n",
              "    x.observe(notebookContainer, {childList: true});\n",
              "}}\n",
              "\n",
              "// Listen for the clearing of the current output cell\n",
              "var outputEl = gd.closest('.output');\n",
              "if (outputEl) {{\n",
              "    x.observe(outputEl, {childList: true});\n",
              "}}\n",
              "\n",
              "                        })                };                            </script>        </div>\n",
              "</body>\n",
              "</html>"
            ]
          },
          "metadata": {}
        }
      ]
    },
    {
      "cell_type": "markdown",
      "source": [
        "##12. Average Team Join"
      ],
      "metadata": {
        "id": "N8ZT01PN6a5n"
      }
    },
    {
      "cell_type": "code",
      "source": [
        "import seaborn as sns \n",
        "\n",
        "team_assigment_df = spark.read.csv(\"/content/team-assignments.csv\", header=True, inferSchema=True)\n",
        "\n",
        "\n",
        "team_assigment_stats_df = team_assigment_df.groupBy(\"userId\").agg(f.count(\"userId\").alias(\"count\")).select(\"count\",\"userId\").orderBy(\"count\")\n",
        "x = team_assigment_stats_df.select(\"count\").toPandas()\n",
        "\n",
        "fig = plt.figure(figsize=(20, 8))\n",
        "ax = fig.add_subplot(1, 2, 1)\n",
        "#ax = sns.boxplot(data=x, palette=\"Set3\",color=\"green\")\n",
        "ax = sns.boxplot(data=x,color=\"blue\",width=0.3)\n",
        "ax.set(xlabel='Average number of times person joins a team', ylabel='count', \n",
        "       title = \"Box Plot for statistics of players joining teams\")\n",
        "\n",
        "\n",
        "\n"
      ],
      "metadata": {
        "colab": {
          "base_uri": "https://localhost:8080/",
          "height": 778
        },
        "id": "DxTYO0EzC-_I",
        "outputId": "4d55b0a2-0081-4828-b480-d13450c12f22"
      },
      "execution_count": null,
      "outputs": [
        {
          "output_type": "execute_result",
          "data": {
            "text/plain": [
              "[Text(0.5, 0, 'Average number of times person joins a team'),\n",
              " Text(0, 0.5, 'count'),\n",
              " Text(0.5, 1.0, 'Box Plot for statistics of players joining teams')]"
            ]
          },
          "metadata": {},
          "execution_count": 271
        },
        {
          "output_type": "display_data",
          "data": {
            "text/plain": [
              "<Figure size 2000x800 with 1 Axes>"
            ],
            "image/png": "[encoded data removed]"
          },
          "metadata": {}
        }
      ]
    },
    {
      "cell_type": "code",
      "source": [
        "#ax = fig.add_subplot(1, 2, 2)\n",
        "sns.set(style=\"darkgrid\")\n",
        "ax = sns.violinplot(data=x, palette = \"Blues\")\n",
        "ax.set(xlabel='Count of time person joins a team', ylabel='count', title = \"Violin Plot for statistics of players joining teams\")"
      ],
      "metadata": {
        "colab": {
          "base_uri": "https://localhost:8080/",
          "height": 531
        },
        "id": "GK2ary5GE8n1",
        "outputId": "057e4414-ef53-4939-f08d-e13390ef2e29"
      },
      "execution_count": null,
      "outputs": [
        {
          "output_type": "execute_result",
          "data": {
            "text/plain": [
              "[Text(0.5, 0, 'Count of time person joins a team'),\n",
              " Text(0, 0.5, 'count'),\n",
              " Text(0.5, 1.0, 'Violin Plot for statistics of players joining teams')]"
            ]
          },
          "metadata": {},
          "execution_count": 273
        },
        {
          "output_type": "display_data",
          "data": {
            "text/plain": [
              "<Figure size 640x480 with 1 Axes>"
            ],
            "image/png": "[encoded data removed]"
          },
          "metadata": {}
        }
      ]
    }
  ]
}